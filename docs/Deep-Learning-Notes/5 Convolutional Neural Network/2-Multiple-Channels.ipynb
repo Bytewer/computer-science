{
 "cells": [
  {
   "cell_type": "markdown",
   "metadata": {
    "collapsed": true,
    "pycharm": {
     "name": "#%% md\n"
    }
   },
   "source": [
    "## 多输入通道和多输出通道\n",
    "---"
   ]
  },
  {
   "cell_type": "markdown",
   "source": [
    "### 多输入通道"
   ],
   "metadata": {
    "collapsed": false,
    "pycharm": {
     "name": "#%% md\n"
    }
   }
  },
  {
   "cell_type": "code",
   "execution_count": 1,
   "outputs": [],
   "source": [
    "import torch\n",
    "from torch import nn\n",
    "import sys\n",
    "sys.path.append('..')\n",
    "import d2lzh_pytorch as d2l"
   ],
   "metadata": {
    "collapsed": false,
    "pycharm": {
     "name": "#%%\n"
    }
   }
  },
  {
   "cell_type": "code",
   "execution_count": 2,
   "outputs": [],
   "source": [
    "# d2l.corr2d 二维卷积运算\n",
    "def corr2d_multi_in(X, K):\n",
    "    res = d2l.corr2d(X[0, :, :], K[0, :, :])\n",
    "    for i in range(1, X.shape[0]):\n",
    "        res += d2l.corr2d(X[i, :, :], K[i, :, :])\n",
    "    return res"
   ],
   "metadata": {
    "collapsed": false,
    "pycharm": {
     "name": "#%%\n"
    }
   }
  },
  {
   "cell_type": "code",
   "execution_count": 15,
   "outputs": [
    {
     "name": "stdout",
     "output_type": "stream",
     "text": [
      "tensor([[[0, 1, 2],\n",
      "         [3, 4, 5],\n",
      "         [6, 7, 8]],\n",
      "\n",
      "        [[1, 2, 3],\n",
      "         [4, 5, 6],\n",
      "         [7, 8, 9]]])\n",
      "tensor([[0, 1, 2],\n",
      "        [3, 4, 5],\n",
      "        [6, 7, 8]])\n",
      "torch.Size([2, 3, 3])\n"
     ]
    }
   ],
   "source": [
    "X = torch.tensor([[[0, 1, 2], [3, 4, 5], [6, 7, 8]],\n",
    "              [[1, 2, 3], [4, 5, 6], [7, 8, 9]]])\n",
    "K = torch.tensor([[[0, 1], [2, 3]], [[1, 2], [3, 4]]])\n",
    "print(X)\n",
    "print(X[0, :, :])\n",
    "print(X.shape) # 解释：[矩阵个数，行，列]"
   ],
   "metadata": {
    "collapsed": false,
    "pycharm": {
     "name": "#%%\n"
    }
   }
  },
  {
   "cell_type": "code",
   "execution_count": 5,
   "outputs": [
    {
     "data": {
      "text/plain": "tensor([[ 56.,  72.],\n        [104., 120.]])"
     },
     "execution_count": 5,
     "metadata": {},
     "output_type": "execute_result"
    }
   ],
   "source": [
    "corr2d_multi_in(X, K)"
   ],
   "metadata": {
    "collapsed": false,
    "pycharm": {
     "name": "#%%\n"
    }
   }
  },
  {
   "cell_type": "code",
   "execution_count": 17,
   "outputs": [],
   "source": [
    "def corr2d_multi_in_out(X, K):\n",
    "    return torch.stack([corr2d_multi_in(X, k) for k in K])"
   ],
   "metadata": {
    "collapsed": false,
    "pycharm": {
     "name": "#%%\n"
    }
   }
  },
  {
   "cell_type": "code",
   "execution_count": 21,
   "outputs": [
    {
     "name": "stdout",
     "output_type": "stream",
     "text": [
      "torch.Size([3, 3, 3, 2, 2, 2])\n"
     ]
    }
   ],
   "source": [
    "K = torch.stack([K, K + 1, K + 2]) # 设置三个准备输出的通道\n",
    "# print(K)\n",
    "print(K.shape) # 划分为 [3..., 3, 2] 行列[2, 2]"
   ],
   "metadata": {
    "collapsed": false,
    "pycharm": {
     "name": "#%%\n"
    }
   }
  },
  {
   "cell_type": "code",
   "execution_count": 19,
   "outputs": [
    {
     "data": {
      "text/plain": "tensor([[[ 56.,  72.],\n         [104., 120.]],\n\n        [[ 76., 100.],\n         [148., 172.]],\n\n        [[ 96., 128.],\n         [192., 224.]]])"
     },
     "execution_count": 19,
     "metadata": {},
     "output_type": "execute_result"
    }
   ],
   "source": [
    "corr2d_multi_in_out(X, K)  # 分别是 K , K+1 , K+2结果"
   ],
   "metadata": {
    "collapsed": false,
    "pycharm": {
     "name": "#%%\n"
    }
   }
  },
  {
   "cell_type": "markdown",
   "source": [
    "### 1 × 1 卷积层\n",
    "![1mul1conv2d](./img/Snipaste_2021-09-27_10-39-46.png)\n",
    "输入通道数为3、输出通道数为2的1×11×1卷积核的互相关计算\n",
    "\n",
    "1×1卷积层通常用来调整网络层之间的通道数，并控制模型复杂度"
   ],
   "metadata": {
    "collapsed": false,
    "pycharm": {
     "name": "#%% md\n"
    }
   }
  },
  {
   "cell_type": "code",
   "execution_count": 29,
   "outputs": [],
   "source": [
    "def corr2d_multi_in_out_1x1(X, K):\n",
    "    c_i, h, w = X.shape\n",
    "    c_o = K.shape[0]\n",
    "    X = X.view(c_i, h * w)\n",
    "    K = K.view(c_o, c_i)\n",
    "    Y = torch.mm(K, X)\n",
    "    return Y.view(c_o, h, w)"
   ],
   "metadata": {
    "collapsed": false,
    "pycharm": {
     "name": "#%%\n"
    }
   }
  },
  {
   "cell_type": "code",
   "execution_count": 32,
   "outputs": [
    {
     "name": "stdout",
     "output_type": "stream",
     "text": [
      "X:  tensor([[0.6542, 0.5544, 0.1346, 0.2838, 0.1291, 0.8641, 0.4491, 0.5873, 0.0208],\n",
      "        [0.6586, 0.1975, 0.6296, 0.0510, 0.4998, 0.3774, 0.8282, 0.5707, 0.4979],\n",
      "        [0.3851, 0.1948, 0.3365, 0.2283, 0.0590, 0.4665, 0.5523, 0.4093, 0.3155]])\n",
      "K:  tensor([[0.1657, 0.6026, 0.5720],\n",
      "        [0.4236, 0.6342, 0.9604]])\n",
      "123： 3\n",
      "tensor([[[0.7256, 0.3223, 0.5942],\n",
      "         [0.2083, 0.3563, 0.6374],\n",
      "         [0.8894, 0.6754, 0.4840]],\n",
      "\n",
      "        [[1.0647, 0.5472, 0.7795],\n",
      "         [0.3718, 0.4283, 1.0533],\n",
      "         [1.2459, 1.0038, 0.6276]]])\n",
      "tensor([[[0.7256, 0.3223, 0.5942],\n",
      "         [0.2083, 0.3563, 0.6374],\n",
      "         [0.8894, 0.6754, 0.4840]],\n",
      "\n",
      "        [[1.0647, 0.5472, 0.7795],\n",
      "         [0.3718, 0.4283, 1.0533],\n",
      "         [1.2459, 1.0038, 0.6276]]])\n"
     ]
    },
    {
     "data": {
      "text/plain": "True"
     },
     "execution_count": 32,
     "metadata": {},
     "output_type": "execute_result"
    }
   ],
   "source": [
    "X = torch.rand(3, 3, 3) # c_i = 3  ==> [3, 9]\n",
    "K = torch.rand(2, 3, 1, 1) # c_o = 2  ==> [2, 3]\n",
    "print('X: ', X.view(3,9))\n",
    "print('K: ', K.view(2,3))\n",
    "\n",
    "Y1 = corr2d_multi_in_out_1x1(X, K)\n",
    "Y2 = corr2d_multi_in_out(X, K)\n",
    "print(Y1)\n",
    "print(Y2)\n",
    "\n",
    "(Y1 - Y2).norm().item() < 1e-6"
   ],
   "metadata": {
    "collapsed": false,
    "pycharm": {
     "name": "#%%\n"
    }
   }
  },
  {
   "cell_type": "code",
   "execution_count": null,
   "outputs": [],
   "source": [],
   "metadata": {
    "collapsed": false,
    "pycharm": {
     "name": "#%%\n"
    }
   }
  }
 ],
 "metadata": {
  "kernelspec": {
   "display_name": "Python 3",
   "language": "python",
   "name": "python3"
  },
  "language_info": {
   "codemirror_mode": {
    "name": "ipython",
    "version": 2
   },
   "file_extension": ".py",
   "mimetype": "text/x-python",
   "name": "python",
   "nbconvert_exporter": "python",
   "pygments_lexer": "ipython2",
   "version": "2.7.6"
  }
 },
 "nbformat": 4,
 "nbformat_minor": 0
}