{
 "cells": [
  {
   "cell_type": "markdown",
   "metadata": {
    "collapsed": true,
    "pycharm": {
     "name": "#%% md\n"
    }
   },
   "source": [
    "## 自定义层\n",
    "---"
   ]
  },
  {
   "cell_type": "markdown",
   "source": [
    "### 不含模型参数的自定义层"
   ],
   "metadata": {
    "collapsed": false,
    "pycharm": {
     "name": "#%% md\n"
    }
   }
  },
  {
   "cell_type": "code",
   "execution_count": 1,
   "outputs": [
    {
     "data": {
      "text/plain": "tensor([-2., -1.,  0.,  1.,  2.])"
     },
     "execution_count": 1,
     "metadata": {},
     "output_type": "execute_result"
    }
   ],
   "source": [
    "import torch\n",
    "from torch import nn\n",
    "\n",
    "class CenteredLayer(nn.Module):\n",
    "    def __init__(self, **kwargs):\n",
    "        super(CenteredLayer, self).__init__()\n",
    "    def forward(self, x):\n",
    "        return x - x.mean()\n",
    "\n",
    "layer = CenteredLayer()\n",
    "layer(torch.tensor([1,2,3,4,5], dtype=torch.float))"
   ],
   "metadata": {
    "collapsed": false,
    "pycharm": {
     "name": "#%%\n"
    }
   }
  },
  {
   "cell_type": "code",
   "execution_count": 6,
   "outputs": [
    {
     "data": {
      "text/plain": "tensor([[-0.7948, -0.5475, -0.2065, -0.0209, -0.4834,  0.8275, -0.3894, -0.0943,\n          0.3236,  0.5518, -0.1782,  0.3414, -0.9232,  0.2551,  0.3652,  0.4657,\n          0.4744,  0.7016, -0.0055,  0.4329, -0.2925,  0.0590, -0.0853,  0.4360,\n          0.5644, -0.2686,  0.7717,  0.1796,  0.7375,  0.0037, -0.4272,  0.4416,\n         -0.1655,  0.7557,  0.7372,  0.3936,  0.1899,  0.6716, -0.4527, -0.0849,\n          0.2648,  0.1903, -0.2491,  0.2744, -0.7896,  0.3739, -0.3029,  0.2557,\n          0.8442,  0.0376, -0.0537,  0.2780, -0.8638, -0.6050, -0.0913,  0.0412,\n         -0.4727, -0.5476,  0.1350,  0.2016,  0.3654,  0.0502, -0.1267,  0.1767,\n          0.0373, -0.7600,  0.5537,  0.3082,  0.8094, -0.0383, -0.0692, -0.0272,\n          0.1905, -0.6772, -0.0014,  0.7888, -0.9996, -0.3068,  0.1754,  0.5232,\n          0.0705, -0.5180, -0.7525,  0.1491, -0.1703,  0.4155, -0.1160, -0.0334,\n         -0.4525,  0.1529,  0.6055, -0.2037, -0.4627,  0.3659,  0.0407, -1.0556,\n         -0.3826, -0.1823, -0.6121,  0.0681,  0.7217,  0.0412,  0.4817, -0.6986,\n          0.3562,  0.2716,  0.1690, -0.4338,  0.5664,  0.2503,  0.1699, -0.4349,\n         -0.4467,  0.0112, -0.6711, -0.3568, -0.1727,  0.1180, -0.0439, -0.1798,\n          0.2721, -0.6389, -0.2342, -0.0797, -0.6512, -0.2588, -0.7616, -0.0495],\n        [-0.6981, -0.3697, -0.3352,  0.0776, -0.5132,  0.6278, -0.2696, -0.2605,\n          0.0470,  0.4329, -0.1519,  0.2593, -0.6555,  0.0816,  0.3904,  0.3132,\n          0.4058,  0.6177, -0.0531,  0.5093, -0.3056,  0.0020,  0.2433,  0.3817,\n          0.2389, -0.0500,  0.6356,  0.2442,  0.4252, -0.2978, -0.1353,  0.4241,\n          0.0597,  0.5235,  0.4740,  0.3255,  0.1405,  0.4911, -0.2755, -0.0551,\n          0.2556,  0.0832, -0.2031, -0.0116, -0.6971,  0.2864, -0.2325,  0.1082,\n          0.6398, -0.1521, -0.1099,  0.2533, -0.5749, -0.5797,  0.0678, -0.1264,\n         -0.3530, -0.4305,  0.1447,  0.1636,  0.3224, -0.0679, -0.0424,  0.2817,\n          0.0071, -0.6742,  0.5668,  0.3093,  0.6610,  0.0877,  0.0458, -0.0851,\n          0.1672, -0.6207,  0.0945,  0.4494, -0.7518, -0.4605,  0.0019,  0.3588,\n          0.0039, -0.3136, -0.6211,  0.0218, -0.3564,  0.4363,  0.0367, -0.0785,\n         -0.2368,  0.1186,  0.4856, -0.2088, -0.3257,  0.3906,  0.2283, -0.8672,\n         -0.3199, -0.1353, -0.5191,  0.1251,  0.4186, -0.2633,  0.4138, -0.4479,\n          0.4392,  0.2932,  0.2440, -0.3783,  0.4552,  0.2778,  0.1909, -0.2029,\n         -0.3748, -0.1064, -0.4651, -0.0679, -0.2059,  0.0781, -0.0599, -0.2272,\n          0.1732, -0.4597,  0.0012, -0.3504, -0.6648, -0.2678, -0.6463, -0.0568],\n        [-0.7293, -0.5155, -0.5488,  0.4185, -0.6960,  0.9182, -0.3715,  0.0669,\n         -0.2599,  0.2548, -0.0796,  0.3365, -0.6329,  0.4183,  0.2013,  0.4293,\n          0.6004,  1.1999,  0.0933,  0.3436,  0.0420, -0.0019,  0.4037,  0.4719,\n          0.6811,  0.0349,  0.6222,  0.2577,  0.6690, -0.4118, -0.2969,  0.6506,\n         -0.3386,  0.7248,  0.4885,  0.4423,  0.3277,  0.3957,  0.0435, -0.0085,\n          0.4974, -0.0735, -0.4942,  0.0608, -0.8831,  0.8996,  0.3116,  0.0674,\n          0.7231,  0.0044, -0.1723,  0.0435, -0.6833, -0.9365,  0.3455,  0.0685,\n         -0.4673, -0.4149,  0.1259,  0.1003, -0.1180,  0.3511,  0.1450,  0.1361,\n         -0.5178, -1.1374,  0.2907,  0.3196,  0.5861, -0.0618, -0.2455,  0.5633,\n          0.3578, -0.7207,  0.0572,  1.1381, -0.9977, -0.5076,  0.1859,  0.1458,\n         -0.1095, -0.3634, -0.8565, -0.2386, -0.0416,  0.4703, -0.2944,  0.0744,\n         -0.1059,  0.2034,  0.4641, -0.2907, -0.9066,  0.1614,  0.0372, -1.0428,\n         -0.5298, -0.0247, -0.5270,  0.8108,  0.4485, -0.2243,  0.5684, -0.7139,\n          0.0410,  0.4054,  0.2597, -0.4759,  0.4050,  0.6202,  0.1878, -0.2060,\n         -0.4870, -0.0326, -0.8206, -0.5630,  0.3163,  0.2671,  0.2000, -0.2348,\n          0.2006, -0.6715, -0.0657, -0.4153, -1.1564, -0.5215, -0.5557, -0.0181],\n        [-0.4527, -0.7170, -0.0123,  0.1730, -0.1559,  0.6710, -0.4038,  0.0688,\n          0.1564,  0.2364, -0.0194,  0.2437, -0.5537, -0.0231,  0.1836,  0.5952,\n          0.1350,  0.6944, -0.0948,  0.3203, -0.0985, -0.2047, -0.0561,  0.5795,\n          0.5454, -0.1126,  0.2970,  0.2566,  0.8509, -0.0883,  0.0817,  0.4785,\n         -0.3506,  0.5004,  0.4982,  0.1155,  0.2146,  0.5380,  0.0881, -0.2334,\n          0.1391,  0.1126, -0.2684,  0.2885, -0.6217,  0.0170,  0.2913,  0.3883,\n          0.7289,  0.0534,  0.2293, -0.1214, -0.2239, -0.5198, -0.0500,  0.1543,\n         -0.1510, -0.2708, -0.1967,  0.4413,  0.1612,  0.2798, -0.1909,  0.0090,\n         -0.5599, -0.6711,  0.4963,  0.1084,  0.4312, -0.5161, -0.0422,  0.0104,\n          0.2857, -0.3856, -0.2456,  0.7694, -0.6755, -0.1110,  0.4844,  0.4873,\n          0.2002, -0.1436, -0.3925, -0.1257,  0.2048,  0.4557, -0.4326,  0.2722,\n         -0.2328,  0.0229,  0.6710, -0.1270, -0.7225,  0.1632,  0.1421, -0.7139,\n         -0.4057, -0.1330, -0.2591, -0.0317,  0.4234, -0.1219,  0.1608, -0.2552,\n          0.2449,  0.1467,  0.0305, -0.3281,  0.0849,  0.1318,  0.0488, -0.3573,\n         -0.2381,  0.0512, -0.6060, -0.4677,  0.1176,  0.2366, -0.0309, -0.0748,\n          0.4179, -0.3216,  0.0516,  0.1243, -0.4379,  0.0547, -0.3751, -0.1303]],\n       grad_fn=<SubBackward0>)"
     },
     "execution_count": 6,
     "metadata": {},
     "output_type": "execute_result"
    }
   ],
   "source": [
    "net = nn.Sequential(nn.Linear(8, 128), CenteredLayer())\n",
    "y = net(torch.rand(4, 8))\n",
    "y"
   ],
   "metadata": {
    "collapsed": false,
    "pycharm": {
     "name": "#%%\n"
    }
   }
  },
  {
   "cell_type": "code",
   "execution_count": 9,
   "outputs": [
    {
     "data": {
      "text/plain": "-2.561137080192566e-09"
     },
     "execution_count": 9,
     "metadata": {},
     "output_type": "execute_result"
    }
   ],
   "source": [
    "y.mean().item()"
   ],
   "metadata": {
    "collapsed": false,
    "pycharm": {
     "name": "#%%\n"
    }
   }
  },
  {
   "cell_type": "markdown",
   "source": [
    "### 含模型参数的自定义层"
   ],
   "metadata": {
    "collapsed": false,
    "pycharm": {
     "name": "#%% md\n"
    }
   }
  },
  {
   "cell_type": "code",
   "execution_count": 10,
   "outputs": [
    {
     "name": "stdout",
     "output_type": "stream",
     "text": [
      "MyDense(\n",
      "  (param): ParameterList(\n",
      "      (0): Parameter containing: [torch.FloatTensor of size 4x4]\n",
      "      (1): Parameter containing: [torch.FloatTensor of size 4x4]\n",
      "      (2): Parameter containing: [torch.FloatTensor of size 4x4]\n",
      "      (3): Parameter containing: [torch.FloatTensor of size 4x1]\n",
      "  )\n",
      ")\n"
     ]
    }
   ],
   "source": [
    "class MyDense(nn.Module):\n",
    "    def __init__(self):\n",
    "        super(MyDense, self).__init__()\n",
    "        self.param = nn.ParameterList([nn.Parameter(torch.randn(4,4)) for i in range(3)])\n",
    "        self.param.append(nn.Parameter(torch.rand(4, 1)))\n",
    "    def forward(self, x):\n",
    "        for i in range(len(self.param)):\n",
    "            x = torch.mm(x, self.param[i])\n",
    "        return x\n",
    "net = MyDense()\n",
    "print(net)"
   ],
   "metadata": {
    "collapsed": false,
    "pycharm": {
     "name": "#%%\n"
    }
   }
  },
  {
   "cell_type": "code",
   "execution_count": 13,
   "outputs": [
    {
     "name": "stdout",
     "output_type": "stream",
     "text": [
      "MyDictDense(\n",
      "  (params): ParameterDict(\n",
      "      (linear1): Parameter containing: [torch.FloatTensor of size 4x4]\n",
      "      (linear2): Parameter containing: [torch.FloatTensor of size 4x1]\n",
      "      (linear3): Parameter containing: [torch.FloatTensor of size 4x2]\n",
      "  )\n",
      ")\n"
     ]
    }
   ],
   "source": [
    "class MyDictDense(nn.Module):\n",
    "    def __init__(self):\n",
    "        super(MyDictDense, self).__init__()\n",
    "        self.params = nn. ParameterDict({\n",
    "            'linear1': nn.Parameter(torch.randn(4, 4)),\n",
    "            'linear2': nn.Parameter(torch.randn(4, 1))\n",
    "        })\n",
    "        self.params.update({'linear3': nn.Parameter(torch.randn(4, 2))}) # 新增\n",
    "\n",
    "    def forward(self, x, choice='linear1'):\n",
    "        return torch.mm(x, self.params[choice])\n",
    "\n",
    "net = MyDictDense()\n",
    "print(net)"
   ],
   "metadata": {
    "collapsed": false,
    "pycharm": {
     "name": "#%%\n"
    }
   }
  },
  {
   "cell_type": "code",
   "execution_count": 14,
   "outputs": [
    {
     "name": "stdout",
     "output_type": "stream",
     "text": [
      "tensor([[ 0.5632, -1.5351, -0.8762,  0.8945]], grad_fn=<MmBackward>)\n",
      "tensor([[2.1383]], grad_fn=<MmBackward>)\n",
      "tensor([[0.5623, 1.5582]], grad_fn=<MmBackward>)\n"
     ]
    }
   ],
   "source": [
    "x = torch.ones(1, 4)\n",
    "print(net(x, 'linear1'))\n",
    "print(net(x, 'linear2'))\n",
    "print(net(x, 'linear3'))"
   ],
   "metadata": {
    "collapsed": false,
    "pycharm": {
     "name": "#%%\n"
    }
   }
  },
  {
   "cell_type": "code",
   "execution_count": 15,
   "outputs": [
    {
     "name": "stdout",
     "output_type": "stream",
     "text": [
      "Sequential(\n",
      "  (0): MyDictDense(\n",
      "    (params): ParameterDict(\n",
      "        (linear1): Parameter containing: [torch.FloatTensor of size 4x4]\n",
      "        (linear2): Parameter containing: [torch.FloatTensor of size 4x1]\n",
      "        (linear3): Parameter containing: [torch.FloatTensor of size 4x2]\n",
      "    )\n",
      "  )\n",
      "  (1): MyDense(\n",
      "    (param): ParameterList(\n",
      "        (0): Parameter containing: [torch.FloatTensor of size 4x4]\n",
      "        (1): Parameter containing: [torch.FloatTensor of size 4x4]\n",
      "        (2): Parameter containing: [torch.FloatTensor of size 4x4]\n",
      "        (3): Parameter containing: [torch.FloatTensor of size 4x1]\n",
      "    )\n",
      "  )\n",
      ")\n",
      "tensor([[25.0221]], grad_fn=<MmBackward>)\n"
     ]
    }
   ],
   "source": [
    "net = nn.Sequential(\n",
    "    MyDictDense(),\n",
    "    MyDense()\n",
    ")\n",
    "print(net)\n",
    "print(net(x))"
   ],
   "metadata": {
    "collapsed": false,
    "pycharm": {
     "name": "#%%\n"
    }
   }
  },
  {
   "cell_type": "code",
   "execution_count": null,
   "outputs": [],
   "source": [],
   "metadata": {
    "collapsed": false,
    "pycharm": {
     "name": "#%%\n"
    }
   }
  }
 ],
 "metadata": {
  "kernelspec": {
   "display_name": "Python 3",
   "language": "python",
   "name": "python3"
  },
  "language_info": {
   "codemirror_mode": {
    "name": "ipython",
    "version": 2
   },
   "file_extension": ".py",
   "mimetype": "text/x-python",
   "name": "python",
   "nbconvert_exporter": "python",
   "pygments_lexer": "ipython2",
   "version": "2.7.6"
  }
 },
 "nbformat": 4,
 "nbformat_minor": 0
}