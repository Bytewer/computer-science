{
 "cells": [
  {
   "cell_type": "markdown",
   "metadata": {
    "collapsed": true,
    "pycharm": {
     "name": "#%% md\n"
    }
   },
   "source": [
    "## 精准度和召回率的平衡"
   ]
  },
  {
   "cell_type": "code",
   "execution_count": 1,
   "outputs": [],
   "source": [
    "import numpy as np\n",
    "import matplotlib.pyplot as plt"
   ],
   "metadata": {
    "collapsed": false,
    "pycharm": {
     "name": "#%%\n"
    }
   }
  },
  {
   "cell_type": "code",
   "execution_count": 2,
   "outputs": [],
   "source": [
    "from sklearn import datasets\n",
    "\n",
    "digits = datasets.load_digits()\n",
    "X = digits.data\n",
    "y = digits.target.copy()\n",
    "\n",
    "y[digits.target==9] = 1\n",
    "y[digits.target!=9] = 0"
   ],
   "metadata": {
    "collapsed": false,
    "pycharm": {
     "name": "#%%\n"
    }
   }
  },
  {
   "cell_type": "code",
   "execution_count": 3,
   "outputs": [],
   "source": [
    "from sklearn.model_selection import train_test_split\n",
    "\n",
    "X_train, X_test, y_train, y_test = train_test_split(X, y, random_state=666)"
   ],
   "metadata": {
    "collapsed": false,
    "pycharm": {
     "name": "#%%\n"
    }
   }
  },
  {
   "cell_type": "code",
   "execution_count": 4,
   "outputs": [
    {
     "name": "stderr",
     "output_type": "stream",
     "text": [
      "D:\\anaconda3\\lib\\site-packages\\sklearn\\linear_model\\_logistic.py:763: ConvergenceWarning: lbfgs failed to converge (status=1):\n",
      "STOP: TOTAL NO. of ITERATIONS REACHED LIMIT.\n",
      "\n",
      "Increase the number of iterations (max_iter) or scale the data as shown in:\n",
      "    https://scikit-learn.org/stable/modules/preprocessing.html\n",
      "Please also refer to the documentation for alternative solver options:\n",
      "    https://scikit-learn.org/stable/modules/linear_model.html#logistic-regression\n",
      "  n_iter_i = _check_optimize_result(\n"
     ]
    }
   ],
   "source": [
    "from sklearn.linear_model import LogisticRegression\n",
    "\n",
    "log_reg = LogisticRegression()\n",
    "log_reg.fit(X_train, y_train)\n",
    "y_predict = log_reg.predict(X_test)"
   ],
   "metadata": {
    "collapsed": false,
    "pycharm": {
     "name": "#%%\n"
    }
   }
  },
  {
   "cell_type": "code",
   "execution_count": 5,
   "outputs": [
    {
     "data": {
      "text/plain": "0.8674698795180723"
     },
     "execution_count": 5,
     "metadata": {},
     "output_type": "execute_result"
    }
   ],
   "source": [
    "from sklearn.metrics import f1_score\n",
    "\n",
    "f1_score(y_test, y_predict)"
   ],
   "metadata": {
    "collapsed": false,
    "pycharm": {
     "name": "#%%\n"
    }
   }
  },
  {
   "cell_type": "code",
   "execution_count": 6,
   "outputs": [
    {
     "data": {
      "text/plain": "array([[403,   2],\n       [  9,  36]], dtype=int64)"
     },
     "execution_count": 6,
     "metadata": {},
     "output_type": "execute_result"
    }
   ],
   "source": [
    "from sklearn.metrics import confusion_matrix\n",
    "\n",
    "confusion_matrix(y_test, y_predict)"
   ],
   "metadata": {
    "collapsed": false,
    "pycharm": {
     "name": "#%%\n"
    }
   }
  },
  {
   "cell_type": "code",
   "execution_count": 7,
   "outputs": [
    {
     "data": {
      "text/plain": "0.9473684210526315"
     },
     "execution_count": 7,
     "metadata": {},
     "output_type": "execute_result"
    }
   ],
   "source": [
    "from sklearn.metrics import precision_score\n",
    "\n",
    "precision_score(y_test, y_predict)"
   ],
   "metadata": {
    "collapsed": false,
    "pycharm": {
     "name": "#%%\n"
    }
   }
  },
  {
   "cell_type": "code",
   "execution_count": 8,
   "outputs": [
    {
     "data": {
      "text/plain": "0.8"
     },
     "execution_count": 8,
     "metadata": {},
     "output_type": "execute_result"
    }
   ],
   "source": [
    "from sklearn.metrics import recall_score\n",
    "recall_score(y_test, y_predict)"
   ],
   "metadata": {
    "collapsed": false,
    "pycharm": {
     "name": "#%%\n"
    }
   }
  },
  {
   "cell_type": "code",
   "execution_count": 9,
   "outputs": [
    {
     "data": {
      "text/plain": "array([-21.4039773 , -32.89364379, -16.40026013, -79.8119307 ,\n       -48.03932344, -24.18988984, -44.58965267, -24.26296011,\n        -1.13818798, -18.99903758, -65.81660001, -50.96244729,\n       -30.93812184, -45.94344658, -37.36250374, -29.49063477,\n       -36.93675227, -82.78552967, -37.6088407 ,  -9.8882366 ,\n        -9.25695136, -85.22873843, -16.74470907, -45.35010353,\n        -5.02531081, -48.27450496, -11.66563   , -37.38507888,\n       -25.08413934, -13.60371769, -16.60746266, -28.78342253,\n       -34.3568379 , -28.52507657,  -8.09768697,  -4.57614058,\n       -21.99777125, -21.87070461, -31.24135927, -23.3332075 ,\n       -26.90193709, -62.23012639, -37.69699401, -66.36770954,\n       -20.09366913, -16.70960696, -18.15725897, -21.55490981,\n       -28.96788245, -19.62058144,   2.39045001,   7.7395625 ,\n       -34.8902543 , -42.70552778, -25.61609234, -34.73810303,\n        -7.59872931, -49.49644725, -51.52689491,  19.6502314 ,\n       -10.06665878, -31.99166273, -11.49844235,  -1.39262894,\n       -48.68505938, -43.9029286 , -24.83588585, -19.59284721,\n       -36.62223783,  -3.5164514 ,  -4.42560102, -19.19656443,\n       -20.36003785, -40.88972137, -11.86381605, -32.75564579,\n       -35.74915039, -28.6247763 , -55.41728809, -18.81812843,\n         4.5606954 , -16.47294512, -76.7585388 , -58.25428752,\n       -30.25857471, -29.41968701, -33.42586734,  -8.42277463,\n       -47.90935396, -65.49453046, -16.88947589, -22.17066487,\n       -11.29206651, -18.65546026, -69.21060874, -46.40590244,\n       -39.45205645, -35.89895906, -17.69733677, -62.96750578,\n       -16.84510696, -55.1244457 , -28.7628626 , -68.45816424,\n       -68.81957853,  -6.50295359, -25.52152168, -38.2776182 ,\n       -27.47933497, -15.5385953 , -27.4738136 , -20.31026307,\n        12.07033856, -23.07054059, -35.95131306, -29.88088569,\n       -68.94416284, -27.36885926, -54.19301763, -24.64204709,\n       -11.87569027, -47.36430473,  -2.73898182, -59.6830079 ,\n       -30.97716771,  -8.96128658, -70.81976813, -56.96586964,\n       -20.09225367, -21.48744789, -68.2821789 , -18.90027812,\n       -38.60467469, -57.36208525,  -0.91035081, -22.4762551 ,\n       -22.65709856, -28.97529632, -32.83166479, -20.40922086,\n       -11.35823233,   4.60913988,   6.26601649,   1.48518618,\n        -7.63907   , -39.2251092 ,  12.14711879, -74.53350959,\n       -75.07851416, -49.97186768, -11.61398657, -47.62829956,\n       -75.39627615, -29.88801546, -63.92148528,  -7.25322482,\n        -6.6423104 , -18.23407902, -32.48426485, -17.92149893,\n       -43.36680107, -32.7194671 , -34.28625748, -72.74868756,\n       -15.18111669,  11.48904946, -56.40015969,  -6.04720031,\n       -48.39705794, -16.45507395,  -2.14180088, -11.85393008,\n       -33.27547069, -51.2979835 , -10.39022811, -17.18654091,\n        -5.23341799, -25.17143478, -15.71416054,   3.55874418,\n       -45.07111314, -12.59099093, -25.39178819, -16.54596201,\n       -22.21594578, -82.50951283,  -5.8896648 , -20.2229767 ,\n       -20.45273522, -26.78838413, -25.99228442, -40.40919197,\n       -38.02793614, -26.95849911, -23.75830556, -20.17969292,\n        -9.70522027, -19.67340714, -42.45949793, -44.10048801,\n       -15.64904113, -64.01595271, -24.55964054, -56.29920498,\n       -13.00707913, -29.68031598,   3.91187545, -44.33112049,\n        -7.94164128,   1.15278164,  -2.80847767, -11.92836685,\n         7.50576596,  -7.17590207, -46.42024501, -48.65990929,\n        -4.60653613, -19.06796072, -24.0682874 , -48.76240105,\n       -15.00269268, -24.90047021, -16.69944909, -18.69012537,\n       -15.70806363, -16.85023182, -38.50967467, -31.09069175,\n        -9.36671765, -71.426898  , -22.7400241 , -14.44960223,\n       -23.0846008 , -34.3114501 ,  -0.90308788, -32.71405011,\n       -11.19292251, -18.66148716,  -8.22092629, -45.40666126,\n       -22.30786283, -62.35106159, -46.76917697, -65.14564556,\n       -33.21521389, -23.48261164, -28.53190193, -64.78373722,\n         1.44974   ,  -4.09290393, -25.61836887, -22.32362951,\n       -54.66937849, -16.33478373, -12.04251011, -35.2674411 ,\n        -5.72297668, -13.56837104, -72.22989008,  -6.1637923 ,\n        -1.15791306, -35.60529059, -24.12560202, -68.30383086,\n        14.76395685, -63.0436501 ,   9.9102925 , -24.15220727,\n       -32.45070692, -14.37314967, -85.70965471, -12.7622192 ,\n         8.99000839, -16.53214761, -36.64792282, -16.51701702,\n       -19.36483185, -32.55999625,  -5.64694359,   7.67471484,\n         9.37342405,   5.83728587, -35.6495837 , -12.97838759,\n       -54.4168625 , -41.11359399,   5.638562  , -79.44433568,\n       -15.83554021, -19.22899382, -10.85632907, -42.51390829,\n       -19.80360832, -15.71303979, -18.00839274, -18.00863184,\n        -6.76256613, -20.78556762, -16.57800506, -70.39953477,\n        -9.22313778, -31.72045034, -19.65044818, -21.94142605,\n       -24.77378697, -16.39733949, -13.36426837, -22.93922946,\n        11.06695971, -15.34219961, -32.93960928, -13.73611361,\n       -50.35294963, -20.43046757, -56.2643303 , -28.68605957,\n       -21.8677946 , -30.4278785 , -69.25521155, -59.34685471,\n        14.32574477,   8.57124959, -25.64086748,   2.7364812 ,\n         4.92673897, -19.64995233, -58.8036532 , -10.00245623,\n       -28.81033605, -27.19663294,   6.27657115, -80.44077732,\n       -34.44990212, -50.25633663, -35.94169718, -48.61232696,\n       -18.0601385 , -62.33499821,  -3.10907666, -25.27018007,\n       -64.10547791,  -9.59528394, -21.80411849,  19.87294506,\n       -18.75360371,  -4.45555596, -13.14851596, -21.64836131,\n       -43.09592386, -52.0821215 , -28.54221066, -14.52112159,\n        -2.48577576,  -6.11579828,   3.67271049, -15.0157497 ,\n       -40.86769808, -26.61746816,  14.10322726, -17.67896217,\n        15.15785416, -33.10645963,   5.24273657, -14.27167042,\n       -53.57414326, -50.04838404, -30.66831955, -38.06038201,\n       -23.28700977, -24.69843406, -13.59148117, -22.64743391,\n       -27.24567959, -19.650604  , -28.18284018, -19.93706764,\n       -29.90881081, -11.27707942, -17.24218633, -24.03150325,\n       -24.352015  ,  10.38815721, -17.18122624, -38.012943  ,\n       -16.07179255, -37.54107813, -16.30447883, -69.10900057,\n       -33.65338016, -43.62235863, -26.67241384, -10.3423912 ,\n       -66.35259877, -31.91904418, -45.56663444, -14.56817394,\n       -36.16758807, -14.92187551, -70.00956433, -11.34650898,\n       -40.85201595, -32.62689933, -19.7927186 , -27.59103548,\n       -15.7380755 , -31.5629612 ,  -8.48541012, -21.40073581,\n       -34.0574981 , -11.70294239, -36.40649338, -34.80682139,\n       -22.20567054,   4.76820355, -21.28692279,  -4.43671786,\n       -20.79011224, -32.26883874, -41.08459997, -25.08892775,\n       -19.76228716, -47.84607257, -30.84318404, -45.53509033,\n       -71.51760606,  -6.25074828, -32.58258732,   2.25697313,\n        11.9210001 ,   7.12602805, -31.33259952, -63.95122741,\n       -23.78685391,  -5.73467646, -32.43151028, -24.68850358,\n       -67.68620729, -32.84891769, -33.61136909, -31.51455443,\n       -51.9758941 , -22.55060469,  -7.74081951, -17.31046939,\n       -25.81107133, -32.35645382, -29.4516798 , -66.42481984,\n       -45.71008673, -16.04460518])"
     },
     "execution_count": 9,
     "metadata": {},
     "output_type": "execute_result"
    }
   ],
   "source": [
    "log_reg.decision_function(X_test) # 决策函数 （score值）"
   ],
   "metadata": {
    "collapsed": false,
    "pycharm": {
     "name": "#%%\n"
    }
   }
  },
  {
   "cell_type": "code",
   "execution_count": 10,
   "outputs": [
    {
     "data": {
      "text/plain": "array([-21.4039773 , -32.89364379, -16.40026013, -79.8119307 ,\n       -48.03932344, -24.18988984, -44.58965267, -24.26296011,\n        -1.13818798, -18.99903758])"
     },
     "execution_count": 10,
     "metadata": {},
     "output_type": "execute_result"
    }
   ],
   "source": [
    "log_reg.decision_function(X_test)[:10]"
   ],
   "metadata": {
    "collapsed": false,
    "pycharm": {
     "name": "#%%\n"
    }
   }
  },
  {
   "cell_type": "code",
   "execution_count": 11,
   "outputs": [
    {
     "data": {
      "text/plain": "array([0, 0, 0, 0, 0, 0, 0, 0, 0, 0])"
     },
     "execution_count": 11,
     "metadata": {},
     "output_type": "execute_result"
    }
   ],
   "source": [
    "log_reg.predict(X_test)[:10]"
   ],
   "metadata": {
    "collapsed": false,
    "pycharm": {
     "name": "#%%\n"
    }
   }
  },
  {
   "cell_type": "code",
   "execution_count": 12,
   "outputs": [],
   "source": [
    "decision_scores = log_reg.decision_function(X_test)"
   ],
   "metadata": {
    "collapsed": false,
    "pycharm": {
     "name": "#%%\n"
    }
   }
  },
  {
   "cell_type": "code",
   "execution_count": 13,
   "outputs": [
    {
     "data": {
      "text/plain": "-85.70965471439519"
     },
     "execution_count": 13,
     "metadata": {},
     "output_type": "execute_result"
    }
   ],
   "source": [
    "np.min(decision_scores)"
   ],
   "metadata": {
    "collapsed": false,
    "pycharm": {
     "name": "#%%\n"
    }
   }
  },
  {
   "cell_type": "code",
   "execution_count": 14,
   "outputs": [
    {
     "data": {
      "text/plain": "19.872945055314357"
     },
     "execution_count": 14,
     "metadata": {},
     "output_type": "execute_result"
    }
   ],
   "source": [
    "np.max(decision_scores)"
   ],
   "metadata": {
    "collapsed": false,
    "pycharm": {
     "name": "#%%\n"
    }
   }
  },
  {
   "cell_type": "code",
   "execution_count": 15,
   "outputs": [],
   "source": [
    "# 阈值调高\n",
    "y_predict2 = np.array(decision_scores >= 5, dtype='int')"
   ],
   "metadata": {
    "collapsed": false,
    "pycharm": {
     "name": "#%%\n"
    }
   }
  },
  {
   "cell_type": "code",
   "execution_count": 16,
   "outputs": [
    {
     "data": {
      "text/plain": "array([[404,   1],\n       [ 21,  24]], dtype=int64)"
     },
     "execution_count": 16,
     "metadata": {},
     "output_type": "execute_result"
    }
   ],
   "source": [
    "confusion_matrix(y_test, y_predict2)"
   ],
   "metadata": {
    "collapsed": false,
    "pycharm": {
     "name": "#%%\n"
    }
   }
  },
  {
   "cell_type": "code",
   "execution_count": 18,
   "outputs": [
    {
     "data": {
      "text/plain": "0.96"
     },
     "execution_count": 18,
     "metadata": {},
     "output_type": "execute_result"
    }
   ],
   "source": [
    "precision_score(y_test, y_predict2)"
   ],
   "metadata": {
    "collapsed": false,
    "pycharm": {
     "name": "#%%\n"
    }
   }
  },
  {
   "cell_type": "code",
   "execution_count": 19,
   "outputs": [
    {
     "data": {
      "text/plain": "0.5333333333333333"
     },
     "execution_count": 19,
     "metadata": {},
     "output_type": "execute_result"
    }
   ],
   "source": [
    "recall_score(y_test, y_predict2)"
   ],
   "metadata": {
    "collapsed": false,
    "pycharm": {
     "name": "#%%\n"
    }
   }
  },
  {
   "cell_type": "code",
   "execution_count": 22,
   "outputs": [],
   "source": [
    "#阈值调低\n",
    "y_predict3 = np.array(decision_scores >= -5, dtype='int')"
   ],
   "metadata": {
    "collapsed": false,
    "pycharm": {
     "name": "#%%\n"
    }
   }
  },
  {
   "cell_type": "code",
   "execution_count": 23,
   "outputs": [
    {
     "data": {
      "text/plain": "array([[390,  15],\n       [  5,  40]], dtype=int64)"
     },
     "execution_count": 23,
     "metadata": {},
     "output_type": "execute_result"
    }
   ],
   "source": [
    "confusion_matrix(y_test, y_predict3)"
   ],
   "metadata": {
    "collapsed": false,
    "pycharm": {
     "name": "#%%\n"
    }
   }
  },
  {
   "cell_type": "code",
   "execution_count": 24,
   "outputs": [
    {
     "data": {
      "text/plain": "0.7272727272727273"
     },
     "execution_count": 24,
     "metadata": {},
     "output_type": "execute_result"
    }
   ],
   "source": [
    "precision_score(y_test, y_predict3)"
   ],
   "metadata": {
    "collapsed": false,
    "pycharm": {
     "name": "#%%\n"
    }
   }
  },
  {
   "cell_type": "code",
   "execution_count": 25,
   "outputs": [
    {
     "data": {
      "text/plain": "0.8888888888888888"
     },
     "execution_count": 25,
     "metadata": {},
     "output_type": "execute_result"
    }
   ],
   "source": [
    "recall_score(y_test, y_predict3)"
   ],
   "metadata": {
    "collapsed": false,
    "pycharm": {
     "name": "#%%\n"
    }
   }
  },
  {
   "cell_type": "code",
   "execution_count": null,
   "outputs": [],
   "source": [],
   "metadata": {
    "collapsed": false,
    "pycharm": {
     "name": "#%%\n"
    }
   }
  }
 ],
 "metadata": {
  "kernelspec": {
   "display_name": "Python 3",
   "language": "python",
   "name": "python3"
  },
  "language_info": {
   "codemirror_mode": {
    "name": "ipython",
    "version": 2
   },
   "file_extension": ".py",
   "mimetype": "text/x-python",
   "name": "python",
   "nbconvert_exporter": "python",
   "pygments_lexer": "ipython2",
   "version": "2.7.6"
  }
 },
 "nbformat": 4,
 "nbformat_minor": 0
}