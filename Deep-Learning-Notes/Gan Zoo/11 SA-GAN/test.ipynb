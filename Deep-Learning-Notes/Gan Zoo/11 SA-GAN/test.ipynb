{
 "cells": [
  {
   "cell_type": "code",
   "execution_count": 4,
   "metadata": {},
   "outputs": [],
   "source": [
    "import torch\n",
    "import torch.nn as nn"
   ]
  },
  {
   "cell_type": "code",
   "execution_count": 6,
   "metadata": {},
   "outputs": [
    {
     "data": {
      "text/plain": [
       "Parameter containing:\n",
       "tensor([0.], requires_grad=True)"
      ]
     },
     "execution_count": 6,
     "metadata": {},
     "output_type": "execute_result"
    }
   ],
   "source": [
    "nn.Parameter(torch.zeros(1))"
   ]
  },
  {
   "cell_type": "code",
   "execution_count": 9,
   "metadata": {},
   "outputs": [
    {
     "name": "stdout",
     "output_type": "stream",
     "text": [
      "tensor([[0.6901, 0.5918, 0.3898],\n",
      "        [0.0513, 0.6428, 0.0659]])\n",
      "tensor([[0.3778, 0.3424, 0.2798],\n",
      "        [0.2617, 0.4728, 0.2655]])\n"
     ]
    }
   ],
   "source": [
    "sm = nn.Softmax(dim=-1)\n",
    "a = torch.rand(2, 3)\n",
    "print(a)\n",
    "print(sm(a))"
   ]
  },
  {
   "cell_type": "code",
   "execution_count": null,
   "metadata": {},
   "outputs": [],
   "source": []
  }
 ],
 "metadata": {
  "interpreter": {
   "hash": "8427422d1520dd244779d2834175744dc820cd6687d7777b5e996fcb6e859ad9"
  },
  "kernelspec": {
   "display_name": "Python 3.8.12 64-bit ('torch_1': conda)",
   "name": "python3"
  },
  "language_info": {
   "codemirror_mode": {
    "name": "ipython",
    "version": 3
   },
   "file_extension": ".py",
   "mimetype": "text/x-python",
   "name": "python",
   "nbconvert_exporter": "python",
   "pygments_lexer": "ipython3",
   "version": "3.8.12"
  },
  "orig_nbformat": 4
 },
 "nbformat": 4,
 "nbformat_minor": 2
}
