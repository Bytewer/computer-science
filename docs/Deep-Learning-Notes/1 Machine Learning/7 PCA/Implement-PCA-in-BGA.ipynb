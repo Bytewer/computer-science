{
 "cells": [
  {
   "cell_type": "markdown",
   "id": "3aab975f",
   "metadata": {},
   "source": [
    "# 使用梯度上升法求解主成分"
   ]
  },
  {
   "cell_type": "code",
   "execution_count": 35,
   "id": "c51fec09",
   "metadata": {
    "ExecuteTime": {
     "end_time": "2021-08-10T08:23:57.860377Z",
     "start_time": "2021-08-10T08:23:57.643371Z"
    }
   },
   "outputs": [],
   "source": [
    "import numpy as np\n",
    "import matplotlib.pyplot as plt"
   ]
  },
  {
   "cell_type": "code",
   "execution_count": 36,
   "id": "8e043fdc",
   "metadata": {
    "ExecuteTime": {
     "end_time": "2021-08-10T08:25:13.666237Z",
     "start_time": "2021-08-10T08:25:13.661252Z"
    }
   },
   "outputs": [],
   "source": [
    "X = np.empty((100, 2))\n",
    "X[:, 0] = np.random.uniform(0., 100. , size=100)\n",
    "X[:, 1] = 0.75 * X[:, 0] + 3. + np.random.normal(0, 10., size=100) # 加了一个噪音"
   ]
  },
  {
   "cell_type": "code",
   "execution_count": 37,
   "id": "2a8e133c",
   "metadata": {
    "ExecuteTime": {
     "end_time": "2021-08-10T08:25:33.292494Z",
     "start_time": "2021-08-10T08:25:33.160805Z"
    }
   },
   "outputs": [
    {
     "data": {
      "text/plain": "<Figure size 432x288 with 1 Axes>",
      "image/png": "[encoded data removed]"
     },
     "metadata": {
      "needs_background": "light"
     },
     "output_type": "display_data"
    }
   ],
   "source": [
    "plt.scatter(X[:, 0], X[:, 1])\n",
    "plt.show()"
   ]
  },
  {
   "cell_type": "markdown",
   "id": "4a21c9ee",
   "metadata": {},
   "source": [
    "## demean"
   ]
  },
  {
   "cell_type": "code",
   "execution_count": 38,
   "id": "f2e414dc",
   "metadata": {
    "ExecuteTime": {
     "end_time": "2021-08-10T08:27:59.692837Z",
     "start_time": "2021-08-10T08:27:59.684275Z"
    }
   },
   "outputs": [],
   "source": [
    "def demean(X): # 【思考】\n",
    "    return X - np.mean(X, axis=0) # 行向量求均值, 1×n的向量，x中每个样本减去向量，这个向量就是每一个的均值"
   ]
  },
  {
   "cell_type": "code",
   "execution_count": 39,
   "id": "5b45c253",
   "metadata": {
    "ExecuteTime": {
     "end_time": "2021-08-10T08:28:25.062979Z",
     "start_time": "2021-08-10T08:28:25.055498Z"
    }
   },
   "outputs": [],
   "source": [
    "X_demean = demean(X)"
   ]
  },
  {
   "cell_type": "code",
   "execution_count": 40,
   "id": "0a247696",
   "metadata": {
    "ExecuteTime": {
     "end_time": "2021-08-10T08:28:51.205091Z",
     "start_time": "2021-08-10T08:28:51.108541Z"
    }
   },
   "outputs": [
    {
     "data": {
      "text/plain": "<Figure size 432x288 with 1 Axes>",
      "image/png": "[encoded data removed]"
     },
     "metadata": {
      "needs_background": "light"
     },
     "output_type": "display_data"
    }
   ],
   "source": [
    "plt.scatter(X_demean[:, 0], X_demean[:, 1])\n",
    "plt.show()"
   ]
  },
  {
   "cell_type": "code",
   "execution_count": 41,
   "id": "87457427",
   "metadata": {
    "ExecuteTime": {
     "end_time": "2021-08-10T08:29:24.938548Z",
     "start_time": "2021-08-10T08:29:24.919505Z"
    }
   },
   "outputs": [
    {
     "data": {
      "text/plain": "-2.1387336346379014e-14"
     },
     "execution_count": 41,
     "metadata": {},
     "output_type": "execute_result"
    }
   ],
   "source": [
    "np.mean(X_demean[:, 0])"
   ]
  },
  {
   "cell_type": "code",
   "execution_count": 42,
   "id": "ce7ab188",
   "metadata": {
    "ExecuteTime": {
     "end_time": "2021-08-10T08:29:29.144015Z",
     "start_time": "2021-08-10T08:29:29.124876Z"
    }
   },
   "outputs": [
    {
     "data": {
      "text/plain": "8.490985692333198e-15"
     },
     "execution_count": 42,
     "metadata": {},
     "output_type": "execute_result"
    }
   ],
   "source": [
    "np.mean(X_demean[:, 1])"
   ]
  },
  {
   "cell_type": "markdown",
   "id": "7172f3b5",
   "metadata": {},
   "source": [
    "## 梯度上升法"
   ]
  },
  {
   "cell_type": "code",
   "execution_count": 43,
   "id": "d01bb0d1",
   "metadata": {
    "ExecuteTime": {
     "end_time": "2021-08-10T08:30:30.145652Z",
     "start_time": "2021-08-10T08:30:30.134731Z"
    }
   },
   "outputs": [],
   "source": [
    "def f(w, X):\n",
    "    return np.sum((X.dot(w) ** 2)) / len(X) # X要求是归零化的矩阵"
   ]
  },
  {
   "cell_type": "code",
   "execution_count": 44,
   "id": "6b913b52",
   "metadata": {
    "ExecuteTime": {
     "end_time": "2021-08-10T08:31:54.672153Z",
     "start_time": "2021-08-10T08:31:54.661035Z"
    }
   },
   "outputs": [],
   "source": [
    "def df_math(w, X): #梯度\n",
    "    return X.T.dot(X.dot(w)) * 2. / len(X) # 公式"
   ]
  },
  {
   "cell_type": "code",
   "execution_count": 45,
   "id": "e89e40d2",
   "metadata": {
    "ExecuteTime": {
     "end_time": "2021-08-10T08:34:13.275651Z",
     "start_time": "2021-08-10T08:34:13.267049Z"
    }
   },
   "outputs": [],
   "source": [
    "# 测试函数的准确性\n",
    "def df_debug(w, X, epsilon=0.0001):\n",
    "    res = np.empty(len(w))\n",
    "    for i in range(len(w)):\n",
    "        w_1 = w.copy()\n",
    "        w_1[i] += epsilon\n",
    "        w_2 = w.copy()\n",
    "        w_2[i] -= epsilon\n",
    "        res[i] = (f(w_1, X) - f(w_2, X)) / (2 * epsilon) # 注意公式 别写错了\n",
    "    return res"
   ]
  },
  {
   "cell_type": "code",
   "execution_count": 46,
   "id": "2f90b245",
   "metadata": {
    "ExecuteTime": {
     "end_time": "2021-08-10T08:40:28.050144Z",
     "start_time": "2021-08-10T08:40:28.039589Z"
    }
   },
   "outputs": [],
   "source": [
    "def direction(w):\n",
    "    return w / np.linalg.norm(w) # 求向量的模，因为结果可能大于1，导致搜索不顺畅，所以梯度上升过程中要使用取模，让它每次成为单位向量\n",
    "\n",
    "# 梯度上升法\n",
    "def gradient_ascent(df, X, initial_w, eta, n_iters=1e4, epsilon=1e-8):\n",
    "    \n",
    "    w = direction(initial_w)\n",
    "    cur_iter = 0\n",
    "    \n",
    "    while cur_iter < n_iters:\n",
    "        gradient = df(w, X)\n",
    "        last_w = w\n",
    "        w = w + eta * gradient\n",
    "        w = direction(w) # 每次求一个单位方向\n",
    "        if (abs(f(w, X) - f(last_w, X)) < epsilon):\n",
    "            break\n",
    "        cur_iter += 1\n",
    "    \n",
    "    return w"
   ]
  },
  {
   "cell_type": "code",
   "execution_count": 47,
   "id": "ebc77423",
   "metadata": {
    "ExecuteTime": {
     "end_time": "2021-08-10T08:41:46.271374Z",
     "start_time": "2021-08-10T08:41:46.255415Z"
    }
   },
   "outputs": [
    {
     "data": {
      "text/plain": "array([0.6841699, 0.1927296])"
     },
     "execution_count": 47,
     "metadata": {},
     "output_type": "execute_result"
    }
   ],
   "source": [
    "initial_w = np.random.random(X.shape[1]) # 注意：不能从0向量开始\n",
    "initial_w"
   ]
  },
  {
   "cell_type": "code",
   "execution_count": 48,
   "id": "8bfd2513",
   "metadata": {
    "ExecuteTime": {
     "end_time": "2021-08-10T08:41:50.896346Z",
     "start_time": "2021-08-10T08:41:50.882620Z"
    }
   },
   "outputs": [],
   "source": [
    "eta = 0.001"
   ]
  },
  {
   "cell_type": "code",
   "execution_count": 49,
   "id": "72b30472",
   "metadata": {
    "ExecuteTime": {
     "end_time": "2021-08-10T08:43:09.429637Z",
     "start_time": "2021-08-10T08:43:09.420454Z"
    }
   },
   "outputs": [],
   "source": [
    "# 注意：不能使用StandardScaler标准化数据，如果标准化了，方差就为1，最大值不存在了。"
   ]
  },
  {
   "cell_type": "code",
   "execution_count": 50,
   "id": "d1e4ddcd",
   "metadata": {
    "ExecuteTime": {
     "end_time": "2021-08-10T08:43:23.989193Z",
     "start_time": "2021-08-10T08:43:23.978208Z"
    }
   },
   "outputs": [
    {
     "data": {
      "text/plain": "array([0.79145288, 0.61123018])"
     },
     "execution_count": 50,
     "metadata": {},
     "output_type": "execute_result"
    }
   ],
   "source": [
    "gradient_ascent(df_debug, X_demean, initial_w, eta)"
   ]
  },
  {
   "cell_type": "code",
   "execution_count": 51,
   "id": "9a81abee",
   "metadata": {
    "ExecuteTime": {
     "end_time": "2021-08-10T08:43:38.166554Z",
     "start_time": "2021-08-10T08:43:38.156962Z"
    }
   },
   "outputs": [
    {
     "data": {
      "text/plain": "array([0.79145288, 0.61123018])"
     },
     "execution_count": 51,
     "metadata": {},
     "output_type": "execute_result"
    }
   ],
   "source": [
    "gradient_ascent(df_math, X_demean, initial_w, eta)"
   ]
  },
  {
   "cell_type": "code",
   "execution_count": 52,
   "id": "2b862af8",
   "metadata": {},
   "outputs": [
    {
     "data": {
      "text/plain": "<Figure size 432x288 with 1 Axes>",
      "image/png": "[encoded data removed]"
     },
     "metadata": {
      "needs_background": "light"
     },
     "output_type": "display_data"
    }
   ],
   "source": [
    "w = gradient_ascent(df_math, X_demean, initial_w, eta)\n",
    "\n",
    "plt.scatter(X_demean[:, 0], X_demean[:, 1])\n",
    "plt.plot([0, w[0] * 30], [0, w[1] * 30], color='r')\n",
    "plt.show()"
   ]
  },
  {
   "cell_type": "code",
   "execution_count": 55,
   "outputs": [],
   "source": [
    "X2 = np.empty((100, 2))\n",
    "X2[:, 0] = np.random.uniform(0., 100. , size=100)\n",
    "X2[:, 1] = 0.75 * X2[:, 0] + 3."
   ],
   "metadata": {
    "collapsed": false,
    "pycharm": {
     "name": "#%%\n"
    }
   }
  },
  {
   "cell_type": "code",
   "execution_count": 56,
   "outputs": [
    {
     "data": {
      "text/plain": "<Figure size 432x288 with 1 Axes>",
      "image/png": "[encoded data removed]"
     },
     "metadata": {
      "needs_background": "light"
     },
     "output_type": "display_data"
    }
   ],
   "source": [
    "plt.scatter(X2[:, 0], X2[:, 1])\n",
    "plt.show()"
   ],
   "metadata": {
    "collapsed": false,
    "pycharm": {
     "name": "#%%\n"
    }
   }
  },
  {
   "cell_type": "code",
   "execution_count": 58,
   "outputs": [],
   "source": [
    "X2_demean = demean(X2)\n",
    "w2 = gradient_ascent(df_math, X2_demean, initial_w, eta)"
   ],
   "metadata": {
    "collapsed": false,
    "pycharm": {
     "name": "#%%\n"
    }
   }
  },
  {
   "cell_type": "code",
   "execution_count": 63,
   "outputs": [
    {
     "data": {
      "text/plain": "<Figure size 432x288 with 1 Axes>",
      "image/png": "[encoded data removed]"
     },
     "metadata": {
      "needs_background": "light"
     },
     "output_type": "display_data"
    }
   ],
   "source": [
    "plt.scatter(X2_demean[:, 0], X2_demean[:, 1])\n",
    "plt.plot([0, w2[0] * 30], [0, w2[1] * 30], color='r')\n",
    "plt.show()"
   ],
   "metadata": {
    "collapsed": false,
    "pycharm": {
     "name": "#%%\n"
    }
   }
  },
  {
   "cell_type": "code",
   "execution_count": null,
   "outputs": [],
   "source": [],
   "metadata": {
    "collapsed": false,
    "pycharm": {
     "name": "#%%\n"
    }
   }
  }
 ],
 "metadata": {
  "kernelspec": {
   "display_name": "Python 3",
   "language": "python",
   "name": "python3"
  },
  "language_info": {
   "codemirror_mode": {
    "name": "ipython",
    "version": 3
   },
   "file_extension": ".py",
   "mimetype": "text/x-python",
   "name": "python",
   "nbconvert_exporter": "python",
   "pygments_lexer": "ipython3",
   "version": "3.8.8"
  },
  "toc": {
   "base_numbering": 1,
   "nav_menu": {},
   "number_sections": true,
   "sideBar": true,
   "skip_h1_title": false,
   "title_cell": "Table of Contents",
   "title_sidebar": "Contents",
   "toc_cell": false,
   "toc_position": {},
   "toc_section_display": true,
   "toc_window_display": false
  },
  "varInspector": {
   "cols": {
    "lenName": 16,
    "lenType": 16,
    "lenVar": 40
   },
   "kernels_config": {
    "python": {
     "delete_cmd_postfix": "",
     "delete_cmd_prefix": "del ",
     "library": "var_list.py",
     "varRefreshCmd": "print(var_dic_list())"
    },
    "r": {
     "delete_cmd_postfix": ") ",
     "delete_cmd_prefix": "rm(",
     "library": "var_list.r",
     "varRefreshCmd": "cat(var_dic_list()) "
    }
   },
   "types_to_exclude": [
    "module",
    "function",
    "builtin_function_or_method",
    "instance",
    "_Feature"
   ],
   "window_display": false
  }
 },
 "nbformat": 4,
 "nbformat_minor": 5
}