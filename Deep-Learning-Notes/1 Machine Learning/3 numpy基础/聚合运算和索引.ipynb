{
 "cells": [
  {
   "cell_type": "markdown",
   "id": "d4c36cb0",
   "metadata": {},
   "source": [
    "# 聚合运算"
   ]
  },
  {
   "cell_type": "code",
   "execution_count": 179,
   "id": "82f1c580",
   "metadata": {},
   "outputs": [],
   "source": [
    "import numpy as np\n",
    "L = np.random.random(100)"
   ]
  },
  {
   "cell_type": "code",
   "execution_count": 180,
   "id": "0fb66d51",
   "metadata": {},
   "outputs": [
    {
     "data": {
      "text/plain": [
       "array([0.95220163, 0.22987149, 0.79818371, 0.2134445 , 0.71473456,\n",
       "       0.8907027 , 0.65287875, 0.22142482, 0.51029763, 0.5014755 ,\n",
       "       0.20558397, 0.34396809, 0.54418135, 0.14525228, 0.84377447,\n",
       "       0.33231967, 0.01377296, 0.64641222, 0.58434886, 0.18136501,\n",
       "       0.48472089, 0.23750378, 0.90608181, 0.65920593, 0.59286988,\n",
       "       0.4733383 , 0.39083505, 0.31898986, 0.52697992, 0.80860353,\n",
       "       0.49469881, 0.99408709, 0.09615687, 0.8657713 , 0.44886055,\n",
       "       0.38260396, 0.7316249 , 0.25630527, 0.99477222, 0.26593348,\n",
       "       0.8803973 , 0.80804867, 0.87274893, 0.31040183, 0.33604306,\n",
       "       0.45035599, 0.96603197, 0.33606735, 0.49081919, 0.77794633,\n",
       "       0.77143965, 0.36136329, 0.08345463, 0.47481415, 0.16285321,\n",
       "       0.86695851, 0.82593301, 0.42093658, 0.43680656, 0.9468347 ,\n",
       "       0.20673901, 0.33083704, 0.0100096 , 0.10786354, 0.38520809,\n",
       "       0.65454806, 0.69816495, 0.34536215, 0.15069999, 0.63021056,\n",
       "       0.23361453, 0.241253  , 0.85340901, 0.80610956, 0.88646962,\n",
       "       0.80726162, 0.56171311, 0.4645051 , 0.18861925, 0.01405931,\n",
       "       0.74175407, 0.51485878, 0.07109767, 0.92875819, 0.9016007 ,\n",
       "       0.02227535, 0.66400937, 0.7051967 , 0.66211553, 0.33188306,\n",
       "       0.60026566, 0.55461595, 0.28955396, 0.42792881, 0.25689233,\n",
       "       0.13934041, 0.59466989, 0.26893435, 0.68873116, 0.72808836])"
      ]
     },
     "execution_count": 180,
     "metadata": {},
     "output_type": "execute_result"
    }
   ],
   "source": [
    "L"
   ]
  },
  {
   "cell_type": "code",
   "execution_count": 181,
   "id": "59a3f037",
   "metadata": {},
   "outputs": [
    {
     "data": {
      "text/plain": [
       "50.70561985206878"
      ]
     },
     "execution_count": 181,
     "metadata": {},
     "output_type": "execute_result"
    }
   ],
   "source": [
    "sum(L)"
   ]
  },
  {
   "cell_type": "code",
   "execution_count": 182,
   "id": "b062f77b",
   "metadata": {},
   "outputs": [
    {
     "data": {
      "text/plain": [
       "50.705619852068764"
      ]
     },
     "execution_count": 182,
     "metadata": {},
     "output_type": "execute_result"
    }
   ],
   "source": [
    "np.sum(L)"
   ]
  },
  {
   "cell_type": "code",
   "execution_count": 183,
   "id": "af7eb2d9",
   "metadata": {},
   "outputs": [
    {
     "name": "stdout",
     "output_type": "stream",
     "text": [
      "56.3 ms ± 1.28 ms per loop (mean ± std. dev. of 7 runs, 10 loops each)\n",
      "811 µs ± 71.8 µs per loop (mean ± std. dev. of 7 runs, 1000 loops each)\n"
     ]
    }
   ],
   "source": [
    "big_array = np.random.rand(1000000)\n",
    "%timeit sum(big_array)\n",
    "%timeit np.sum(big_array)"
   ]
  },
  {
   "cell_type": "code",
   "execution_count": 184,
   "id": "4b154953",
   "metadata": {},
   "outputs": [
    {
     "data": {
      "text/plain": [
       "1.3961568527953716e-06"
      ]
     },
     "execution_count": 184,
     "metadata": {},
     "output_type": "execute_result"
    }
   ],
   "source": [
    "np.min(big_array)"
   ]
  },
  {
   "cell_type": "code",
   "execution_count": 185,
   "id": "d1109446",
   "metadata": {},
   "outputs": [
    {
     "data": {
      "text/plain": [
       "0.999998904397211"
      ]
     },
     "execution_count": 185,
     "metadata": {},
     "output_type": "execute_result"
    }
   ],
   "source": [
    "np.max(big_array)"
   ]
  },
  {
   "cell_type": "code",
   "execution_count": 186,
   "id": "79a4ef95",
   "metadata": {},
   "outputs": [
    {
     "data": {
      "text/plain": [
       "0.999998904397211"
      ]
     },
     "execution_count": 186,
     "metadata": {},
     "output_type": "execute_result"
    }
   ],
   "source": [
    "big_array.max()"
   ]
  },
  {
   "cell_type": "code",
   "execution_count": 187,
   "id": "60da85f6",
   "metadata": {},
   "outputs": [
    {
     "data": {
      "text/plain": [
       "1.3961568527953716e-06"
      ]
     },
     "execution_count": 187,
     "metadata": {},
     "output_type": "execute_result"
    }
   ],
   "source": [
    "big_array.min()"
   ]
  },
  {
   "cell_type": "code",
   "execution_count": 188,
   "id": "b418116d",
   "metadata": {},
   "outputs": [
    {
     "data": {
      "text/plain": [
       "500142.19195131777"
      ]
     },
     "execution_count": 188,
     "metadata": {},
     "output_type": "execute_result"
    }
   ],
   "source": [
    "big_array.sum()"
   ]
  },
  {
   "cell_type": "code",
   "execution_count": 189,
   "id": "80e3d605",
   "metadata": {},
   "outputs": [
    {
     "data": {
      "text/plain": [
       "array([[ 0,  1,  2,  3],\n",
       "       [ 4,  5,  6,  7],\n",
       "       [ 8,  9, 10, 11],\n",
       "       [12, 13, 14, 15]])"
      ]
     },
     "execution_count": 189,
     "metadata": {},
     "output_type": "execute_result"
    }
   ],
   "source": [
    "X = np.arange(16).reshape(4, -1)\n",
    "X"
   ]
  },
  {
   "cell_type": "code",
   "execution_count": 190,
   "id": "27ad5d03",
   "metadata": {},
   "outputs": [
    {
     "data": {
      "text/plain": [
       "120"
      ]
     },
     "execution_count": 190,
     "metadata": {},
     "output_type": "execute_result"
    }
   ],
   "source": [
    "np.sum(X)"
   ]
  },
  {
   "cell_type": "code",
   "execution_count": 191,
   "id": "480da3e7",
   "metadata": {},
   "outputs": [
    {
     "data": {
      "text/plain": [
       "array([24, 28, 32, 36])"
      ]
     },
     "execution_count": 191,
     "metadata": {},
     "output_type": "execute_result"
    }
   ],
   "source": [
    "np.sum(X, axis=0) # 每一列的和"
   ]
  },
  {
   "cell_type": "code",
   "execution_count": 192,
   "id": "e1d1add1",
   "metadata": {},
   "outputs": [
    {
     "data": {
      "text/plain": [
       "array([ 6, 22, 38, 54])"
      ]
     },
     "execution_count": 192,
     "metadata": {},
     "output_type": "execute_result"
    }
   ],
   "source": [
    "np.sum(X, axis=1) # 每一行的和"
   ]
  },
  {
   "cell_type": "code",
   "execution_count": 193,
   "id": "8bf85a60",
   "metadata": {},
   "outputs": [
    {
     "data": {
      "text/plain": [
       "0"
      ]
     },
     "execution_count": 193,
     "metadata": {},
     "output_type": "execute_result"
    }
   ],
   "source": [
    "np.prod(X) # 计算所有元素的乘积"
   ]
  },
  {
   "cell_type": "code",
   "execution_count": 194,
   "id": "459029b8",
   "metadata": {},
   "outputs": [
    {
     "data": {
      "text/plain": [
       "2004189184"
      ]
     },
     "execution_count": 194,
     "metadata": {},
     "output_type": "execute_result"
    }
   ],
   "source": [
    "np.prod(X + 1) # 都加1了之后，计算所有元素的乘积"
   ]
  },
  {
   "cell_type": "code",
   "execution_count": 195,
   "id": "2555dd9a",
   "metadata": {},
   "outputs": [
    {
     "data": {
      "text/plain": [
       "7.5"
      ]
     },
     "execution_count": 195,
     "metadata": {},
     "output_type": "execute_result"
    }
   ],
   "source": [
    "np.mean(X) #平均数"
   ]
  },
  {
   "cell_type": "code",
   "execution_count": 196,
   "id": "f15b3e26",
   "metadata": {},
   "outputs": [
    {
     "data": {
      "text/plain": [
       "7.5"
      ]
     },
     "execution_count": 196,
     "metadata": {},
     "output_type": "execute_result"
    }
   ],
   "source": [
    "np.median(X) # 中位数"
   ]
  },
  {
   "cell_type": "code",
   "execution_count": 197,
   "id": "b19836cc",
   "metadata": {},
   "outputs": [
    {
     "data": {
      "text/plain": [
       "3.2"
      ]
     },
     "execution_count": 197,
     "metadata": {},
     "output_type": "execute_result"
    }
   ],
   "source": [
    "v = np.array([1, 1, 2, 2, 10])\n",
    "np.mean(v)"
   ]
  },
  {
   "cell_type": "code",
   "execution_count": 198,
   "id": "6362c0c0",
   "metadata": {},
   "outputs": [
    {
     "data": {
      "text/plain": [
       "2.0"
      ]
     },
     "execution_count": 198,
     "metadata": {},
     "output_type": "execute_result"
    }
   ],
   "source": [
    "np.median(v)"
   ]
  },
  {
   "cell_type": "code",
   "execution_count": 199,
   "id": "03d038d8",
   "metadata": {},
   "outputs": [
    {
     "data": {
      "text/plain": [
       "0.4999421414108574"
      ]
     },
     "execution_count": 199,
     "metadata": {},
     "output_type": "execute_result"
    }
   ],
   "source": [
    "np.percentile(big_array, q=50) # 求百分位，意思是50%都是小于0.499的"
   ]
  },
  {
   "cell_type": "code",
   "execution_count": 200,
   "id": "efb15089",
   "metadata": {},
   "outputs": [
    {
     "data": {
      "text/plain": [
       "0.4999421414108574"
      ]
     },
     "execution_count": 200,
     "metadata": {},
     "output_type": "execute_result"
    }
   ],
   "source": [
    "np.median(big_array)"
   ]
  },
  {
   "cell_type": "code",
   "execution_count": 201,
   "id": "cfdb9151",
   "metadata": {},
   "outputs": [
    {
     "data": {
      "text/plain": [
       "0.999998904397211"
      ]
     },
     "execution_count": 201,
     "metadata": {},
     "output_type": "execute_result"
    }
   ],
   "source": [
    "np.percentile(big_array, q=100)"
   ]
  },
  {
   "cell_type": "code",
   "execution_count": 202,
   "id": "05deeb5a",
   "metadata": {},
   "outputs": [
    {
     "data": {
      "text/plain": [
       "0.999998904397211"
      ]
     },
     "execution_count": 202,
     "metadata": {},
     "output_type": "execute_result"
    }
   ],
   "source": [
    "np.max(big_array)"
   ]
  },
  {
   "cell_type": "code",
   "execution_count": 203,
   "id": "1564312b",
   "metadata": {},
   "outputs": [
    {
     "name": "stdout",
     "output_type": "stream",
     "text": [
      "1.3961568527953716e-06\n",
      "0.2497804073417703\n",
      "0.4999421414108574\n",
      "0.7502703033022531\n",
      "0.999998904397211\n"
     ]
    }
   ],
   "source": [
    "for percent in [0, 25, 50, 75, 100]:\n",
    "    print(np.percentile(big_array, q=percent))"
   ]
  },
  {
   "cell_type": "code",
   "execution_count": 204,
   "id": "61372979",
   "metadata": {},
   "outputs": [
    {
     "data": {
      "text/plain": [
       "0.08345345821236619"
      ]
     },
     "execution_count": 204,
     "metadata": {},
     "output_type": "execute_result"
    }
   ],
   "source": [
    "np.var(big_array) #方差"
   ]
  },
  {
   "cell_type": "code",
   "execution_count": 205,
   "id": "56f29ca2",
   "metadata": {},
   "outputs": [
    {
     "data": {
      "text/plain": [
       "0.2888831220621347"
      ]
     },
     "execution_count": 205,
     "metadata": {},
     "output_type": "execute_result"
    }
   ],
   "source": [
    "np.std(big_array) # 标准差"
   ]
  },
  {
   "cell_type": "code",
   "execution_count": 206,
   "id": "436fde19",
   "metadata": {},
   "outputs": [],
   "source": [
    "x = np.random.normal(0, 1, size=1000000) # 均值为0，标准差为1的正态分布"
   ]
  },
  {
   "cell_type": "code",
   "execution_count": 207,
   "id": "ad100fa4",
   "metadata": {},
   "outputs": [
    {
     "data": {
      "text/plain": [
       "-0.0004808896436468229"
      ]
     },
     "execution_count": 207,
     "metadata": {},
     "output_type": "execute_result"
    }
   ],
   "source": [
    "np.mean(x) # 均值"
   ]
  },
  {
   "cell_type": "code",
   "execution_count": 208,
   "id": "2f741882",
   "metadata": {},
   "outputs": [
    {
     "data": {
      "text/plain": [
       "0.9997902854977494"
      ]
     },
     "execution_count": 208,
     "metadata": {},
     "output_type": "execute_result"
    }
   ],
   "source": [
    "np.std(x) "
   ]
  },
  {
   "cell_type": "markdown",
   "id": "729847a7",
   "metadata": {},
   "source": [
    "# 索引"
   ]
  },
  {
   "cell_type": "code",
   "execution_count": 215,
   "id": "0198b42a",
   "metadata": {},
   "outputs": [
    {
     "data": {
      "text/plain": [
       "array([ 1.80793697, -0.23658344, -0.13697839, ..., -0.65258733,\n",
       "        0.07083716,  0.20496639])"
      ]
     },
     "execution_count": 215,
     "metadata": {},
     "output_type": "execute_result"
    }
   ],
   "source": [
    "x"
   ]
  },
  {
   "cell_type": "code",
   "execution_count": 216,
   "id": "cb8f3293",
   "metadata": {},
   "outputs": [
    {
     "data": {
      "text/plain": [
       "-5.240820586489809"
      ]
     },
     "execution_count": 216,
     "metadata": {},
     "output_type": "execute_result"
    }
   ],
   "source": [
    "np.min(x)"
   ]
  },
  {
   "cell_type": "code",
   "execution_count": 211,
   "id": "13cbe671",
   "metadata": {},
   "outputs": [
    {
     "data": {
      "text/plain": [
       "630547"
      ]
     },
     "execution_count": 211,
     "metadata": {},
     "output_type": "execute_result"
    }
   ],
   "source": [
    "np.argmin(x) # 最小值的索引"
   ]
  },
  {
   "cell_type": "code",
   "execution_count": 217,
   "id": "8dea8488",
   "metadata": {},
   "outputs": [
    {
     "data": {
      "text/plain": [
       "-5.240820586489809"
      ]
     },
     "execution_count": 217,
     "metadata": {},
     "output_type": "execute_result"
    }
   ],
   "source": [
    "x[630547]"
   ]
  },
  {
   "cell_type": "code",
   "execution_count": 218,
   "id": "4e0861c5",
   "metadata": {},
   "outputs": [
    {
     "data": {
      "text/plain": [
       "585452"
      ]
     },
     "execution_count": 218,
     "metadata": {},
     "output_type": "execute_result"
    }
   ],
   "source": [
    "np.argmax(x)"
   ]
  },
  {
   "cell_type": "code",
   "execution_count": 219,
   "id": "e168e64b",
   "metadata": {},
   "outputs": [
    {
     "data": {
      "text/plain": [
       "4.751668785613369"
      ]
     },
     "execution_count": 219,
     "metadata": {},
     "output_type": "execute_result"
    }
   ],
   "source": [
    "x[585452]"
   ]
  },
  {
   "cell_type": "code",
   "execution_count": 220,
   "id": "8e92be71",
   "metadata": {
    "scrolled": false
   },
   "outputs": [
    {
     "data": {
      "text/plain": [
       "4.751668785613369"
      ]
     },
     "execution_count": 220,
     "metadata": {},
     "output_type": "execute_result"
    }
   ],
   "source": [
    "np.max(x)"
   ]
  },
  {
   "cell_type": "markdown",
   "id": "f0f66baf",
   "metadata": {},
   "source": [
    "## 排序和使用索引 "
   ]
  },
  {
   "cell_type": "code",
   "execution_count": 158,
   "id": "0915be59",
   "metadata": {},
   "outputs": [
    {
     "data": {
      "text/plain": [
       "array([ 0,  1,  2,  3,  4,  5,  6,  7,  8,  9, 10, 11, 12, 13, 14, 15])"
      ]
     },
     "execution_count": 158,
     "metadata": {},
     "output_type": "execute_result"
    }
   ],
   "source": [
    "x = np.arange(16)\n",
    "x"
   ]
  },
  {
   "cell_type": "code",
   "execution_count": 159,
   "id": "c35a4269",
   "metadata": {},
   "outputs": [
    {
     "data": {
      "text/plain": [
       "array([ 4,  2,  0, 13,  1, 11,  3, 15, 10,  6,  5, 14,  9,  7,  8, 12])"
      ]
     },
     "execution_count": 159,
     "metadata": {},
     "output_type": "execute_result"
    }
   ],
   "source": [
    "np.random.shuffle(x) # 打乱顺序\n",
    "x"
   ]
  },
  {
   "cell_type": "code",
   "execution_count": 160,
   "id": "4777a010",
   "metadata": {},
   "outputs": [
    {
     "data": {
      "text/plain": [
       "array([ 0,  1,  2,  3,  4,  5,  6,  7,  8,  9, 10, 11, 12, 13, 14, 15])"
      ]
     },
     "execution_count": 160,
     "metadata": {},
     "output_type": "execute_result"
    }
   ],
   "source": [
    "np.sort(x) # 排序"
   ]
  },
  {
   "cell_type": "code",
   "execution_count": 161,
   "id": "0711d501",
   "metadata": {},
   "outputs": [
    {
     "data": {
      "text/plain": [
       "array([ 4,  2,  0, 13,  1, 11,  3, 15, 10,  6,  5, 14,  9,  7,  8, 12])"
      ]
     },
     "execution_count": 161,
     "metadata": {},
     "output_type": "execute_result"
    }
   ],
   "source": [
    "x"
   ]
  },
  {
   "cell_type": "code",
   "execution_count": 162,
   "id": "9788d35e",
   "metadata": {},
   "outputs": [],
   "source": [
    "x.sort()"
   ]
  },
  {
   "cell_type": "code",
   "execution_count": 163,
   "id": "d2c572da",
   "metadata": {},
   "outputs": [
    {
     "data": {
      "text/plain": [
       "array([ 0,  1,  2,  3,  4,  5,  6,  7,  8,  9, 10, 11, 12, 13, 14, 15])"
      ]
     },
     "execution_count": 163,
     "metadata": {},
     "output_type": "execute_result"
    }
   ],
   "source": [
    "x"
   ]
  },
  {
   "cell_type": "code",
   "execution_count": 164,
   "id": "c836a065",
   "metadata": {},
   "outputs": [
    {
     "data": {
      "text/plain": [
       "array([[0, 3, 0, 6],\n",
       "       [7, 0, 9, 7],\n",
       "       [2, 2, 7, 4],\n",
       "       [4, 6, 9, 1]])"
      ]
     },
     "execution_count": 164,
     "metadata": {},
     "output_type": "execute_result"
    }
   ],
   "source": [
    "X = np.random.randint(10, size=(4, 4))\n",
    "X"
   ]
  },
  {
   "cell_type": "code",
   "execution_count": 165,
   "id": "d9184ec3",
   "metadata": {},
   "outputs": [
    {
     "data": {
      "text/plain": [
       "array([[0, 0, 3, 6],\n",
       "       [0, 7, 7, 9],\n",
       "       [2, 2, 4, 7],\n",
       "       [1, 4, 6, 9]])"
      ]
     },
     "execution_count": 165,
     "metadata": {},
     "output_type": "execute_result"
    }
   ],
   "source": [
    "np.sort(X) # 每一行进行排序"
   ]
  },
  {
   "cell_type": "code",
   "execution_count": 166,
   "id": "ff928470",
   "metadata": {},
   "outputs": [
    {
     "data": {
      "text/plain": [
       "array([[0, 0, 3, 6],\n",
       "       [0, 7, 7, 9],\n",
       "       [2, 2, 4, 7],\n",
       "       [1, 4, 6, 9]])"
      ]
     },
     "execution_count": 166,
     "metadata": {},
     "output_type": "execute_result"
    }
   ],
   "source": [
    "np.sort(X, axis=1) # 按行进行排序"
   ]
  },
  {
   "cell_type": "code",
   "execution_count": 167,
   "id": "44a6a8c6",
   "metadata": {},
   "outputs": [
    {
     "data": {
      "text/plain": [
       "array([[0, 0, 0, 1],\n",
       "       [2, 2, 7, 4],\n",
       "       [4, 3, 9, 6],\n",
       "       [7, 6, 9, 7]])"
      ]
     },
     "execution_count": 167,
     "metadata": {},
     "output_type": "execute_result"
    }
   ],
   "source": [
    "np.sort(X, axis=0) # 按列进行排序"
   ]
  },
  {
   "cell_type": "code",
   "execution_count": 168,
   "id": "2b426943",
   "metadata": {},
   "outputs": [
    {
     "data": {
      "text/plain": [
       "array([ 0,  1,  2,  3,  4,  5,  6,  7,  8,  9, 10, 11, 12, 13, 14, 15])"
      ]
     },
     "execution_count": 168,
     "metadata": {},
     "output_type": "execute_result"
    }
   ],
   "source": [
    "x"
   ]
  },
  {
   "cell_type": "code",
   "execution_count": 169,
   "id": "82fa4f46",
   "metadata": {},
   "outputs": [],
   "source": [
    "np.random.shuffle(x)"
   ]
  },
  {
   "cell_type": "code",
   "execution_count": 170,
   "id": "81f66081",
   "metadata": {},
   "outputs": [
    {
     "data": {
      "text/plain": [
       "array([ 5,  4,  3, 14,  8,  0, 11,  6,  2, 12,  7,  9, 13, 15,  1, 10])"
      ]
     },
     "execution_count": 170,
     "metadata": {},
     "output_type": "execute_result"
    }
   ],
   "source": [
    "x"
   ]
  },
  {
   "cell_type": "code",
   "execution_count": 171,
   "id": "616a64cf",
   "metadata": {},
   "outputs": [
    {
     "data": {
      "text/plain": [
       "array([ 5, 14,  8,  2,  1,  0,  7, 10,  4, 11, 15,  6,  9, 12,  3, 13],\n",
       "      dtype=int64)"
      ]
     },
     "execution_count": 171,
     "metadata": {},
     "output_type": "execute_result"
    }
   ],
   "source": [
    "np.argsort(x) # 索引排序"
   ]
  },
  {
   "cell_type": "code",
   "execution_count": 172,
   "id": "2a43577e",
   "metadata": {},
   "outputs": [
    {
     "data": {
      "text/plain": [
       "array([ 1,  0,  2,  3,  5,  4,  6, 11,  8, 12,  7,  9, 13, 15, 14, 10])"
      ]
     },
     "execution_count": 172,
     "metadata": {},
     "output_type": "execute_result"
    }
   ],
   "source": [
    "np.partition(x, 3) # 快速排序部分,3前面的数据都比3小，3后面的数据都比3大"
   ]
  },
  {
   "cell_type": "code",
   "execution_count": 173,
   "id": "83622ddb",
   "metadata": {},
   "outputs": [
    {
     "data": {
      "text/plain": [
       "array([14,  5,  8,  2,  0,  1,  7,  6,  4,  9, 10, 11, 12, 13,  3, 15],\n",
       "      dtype=int64)"
      ]
     },
     "execution_count": 173,
     "metadata": {},
     "output_type": "execute_result"
    }
   ],
   "source": [
    "np.argpartition(x, 3) # 快速排序部分，索引模式"
   ]
  },
  {
   "cell_type": "code",
   "execution_count": 226,
   "id": "62055ba3",
   "metadata": {},
   "outputs": [
    {
     "data": {
      "text/plain": [
       "array([[ 0,  1,  2,  3],\n",
       "       [ 4,  5,  6,  7],\n",
       "       [ 8,  9, 10, 11],\n",
       "       [12, 13, 14, 15]])"
      ]
     },
     "execution_count": 226,
     "metadata": {},
     "output_type": "execute_result"
    }
   ],
   "source": [
    "X"
   ]
  },
  {
   "cell_type": "code",
   "execution_count": 227,
   "id": "e940f922",
   "metadata": {},
   "outputs": [
    {
     "data": {
      "text/plain": [
       "array([[0, 1, 2, 3],\n",
       "       [0, 1, 2, 3],\n",
       "       [0, 1, 2, 3],\n",
       "       [0, 1, 2, 3]], dtype=int64)"
      ]
     },
     "execution_count": 227,
     "metadata": {},
     "output_type": "execute_result"
    }
   ],
   "source": [
    "np.argsort(X, axis=1) # 按行排序"
   ]
  },
  {
   "cell_type": "code",
   "execution_count": 223,
   "id": "97d3ae84",
   "metadata": {},
   "outputs": [
    {
     "data": {
      "text/plain": [
       "array([[0, 0, 0, 0],\n",
       "       [1, 1, 1, 1],\n",
       "       [2, 2, 2, 2],\n",
       "       [3, 3, 3, 3]], dtype=int64)"
      ]
     },
     "execution_count": 223,
     "metadata": {},
     "output_type": "execute_result"
    }
   ],
   "source": [
    "np.argsort(X, axis=0)"
   ]
  },
  {
   "cell_type": "code",
   "execution_count": 224,
   "id": "25f89f17",
   "metadata": {},
   "outputs": [
    {
     "data": {
      "text/plain": [
       "array([[0, 1, 2, 3],\n",
       "       [0, 1, 2, 3],\n",
       "       [0, 1, 2, 3],\n",
       "       [0, 1, 2, 3]], dtype=int64)"
      ]
     },
     "execution_count": 224,
     "metadata": {},
     "output_type": "execute_result"
    }
   ],
   "source": [
    "np.argpartition(X, 2, axis=1)"
   ]
  },
  {
   "cell_type": "code",
   "execution_count": 225,
   "id": "ec3e6936",
   "metadata": {},
   "outputs": [
    {
     "data": {
      "text/plain": [
       "array([[0, 0, 0, 0],\n",
       "       [1, 1, 1, 1],\n",
       "       [2, 2, 2, 2],\n",
       "       [3, 3, 3, 3]], dtype=int64)"
      ]
     },
     "execution_count": 225,
     "metadata": {},
     "output_type": "execute_result"
    }
   ],
   "source": [
    "np.argpartition(X, 2, axis=0)"
   ]
  }
 ],
 "metadata": {
  "kernelspec": {
   "display_name": "Python 3",
   "language": "python",
   "name": "python3"
  },
  "language_info": {
   "codemirror_mode": {
    "name": "ipython",
    "version": 3
   },
   "file_extension": ".py",
   "mimetype": "text/x-python",
   "name": "python",
   "nbconvert_exporter": "python",
   "pygments_lexer": "ipython3",
   "version": "3.8.8"
  }
 },
 "nbformat": 4,
 "nbformat_minor": 5
}
