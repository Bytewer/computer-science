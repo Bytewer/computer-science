{
 "cells": [
  {
   "cell_type": "markdown",
   "id": "e0ec32d6",
   "metadata": {},
   "source": [
    "# New heading"
   ]
  },
  {
   "cell_type": "markdown",
   "id": "401d9526",
   "metadata": {},
   "source": [
    "# 实现 Simple Linear Regression"
   ]
  },
  {
   "cell_type": "code",
   "execution_count": 3,
   "id": "ddb9127c",
   "metadata": {
    "ExecuteTime": {
     "end_time": "2021-07-24T08:29:31.610379Z",
     "start_time": "2021-07-24T08:29:31.171999Z"
    }
   },
   "outputs": [],
   "source": [
    "import numpy as np\n",
    "import matplotlib.pyplot as plt"
   ]
  },
  {
   "cell_type": "code",
   "execution_count": 4,
   "id": "5be5a788",
   "metadata": {
    "ExecuteTime": {
     "end_time": "2021-07-24T08:29:31.626269Z",
     "start_time": "2021-07-24T08:29:31.610379Z"
    }
   },
   "outputs": [],
   "source": [
    "x = np.array([1., 2., 3., 4., 5.])\n",
    "y = np.array([1., 3., 2., 3., 5.])"
   ]
  },
  {
   "cell_type": "code",
   "execution_count": 5,
   "id": "27d08ebd",
   "metadata": {
    "ExecuteTime": {
     "end_time": "2021-07-24T08:29:31.927513Z",
     "start_time": "2021-07-24T08:29:31.630526Z"
    }
   },
   "outputs": [
    {
     "data": {
      "image/png": "[encoded data removed]",
      "text/plain": [
       "<Figure size 432x288 with 1 Axes>"
      ]
     },
     "metadata": {
      "needs_background": "light"
     },
     "output_type": "display_data"
    }
   ],
   "source": [
    "plt.scatter(x, y)\n",
    "plt.axis([0, 6, 0, 6])\n",
    "plt.show()"
   ]
  },
  {
   "cell_type": "markdown",
   "id": "58491df7",
   "metadata": {},
   "source": [
    "$$\n",
    "a = \\frac {\\sum\\limits_{i=1}^m (x^{(i)} - \\overline x)(y^{(i)} - \\overline y)}{\\sum\\limits_{i=1}^m (x^{(i)} - \\overline x)^2}\n",
    "$$"
   ]
  },
  {
   "cell_type": "markdown",
   "id": "fa471a8e",
   "metadata": {},
   "source": [
    "$$\n",
    "b = \\overline y - a \\overline x\n",
    "$$"
   ]
  },
  {
   "cell_type": "code",
   "execution_count": 6,
   "id": "eb60df93",
   "metadata": {
    "ExecuteTime": {
     "end_time": "2021-07-24T08:29:31.943214Z",
     "start_time": "2021-07-24T08:29:31.931177Z"
    }
   },
   "outputs": [],
   "source": [
    "x_mean = np.mean(x)\n",
    "y_mean = np.mean(y)"
   ]
  },
  {
   "cell_type": "code",
   "execution_count": 7,
   "id": "15c9399a",
   "metadata": {
    "ExecuteTime": {
     "end_time": "2021-07-24T08:29:31.984027Z",
     "start_time": "2021-07-24T08:29:31.945089Z"
    }
   },
   "outputs": [],
   "source": [
    "num = 0.0\n",
    "d = 0.0\n",
    "for x_i, y_i in zip(x, y):\n",
    "    num += (x_i - x_mean) * (y_i - y_mean)\n",
    "    d += (x_i - x_mean) ** 2"
   ]
  },
  {
   "cell_type": "code",
   "execution_count": 8,
   "id": "d2d1e91d",
   "metadata": {
    "ExecuteTime": {
     "end_time": "2021-07-24T08:29:31.999258Z",
     "start_time": "2021-07-24T08:29:31.985770Z"
    }
   },
   "outputs": [],
   "source": [
    "a = num / d\n",
    "b = y_mean - a * x_mean"
   ]
  },
  {
   "cell_type": "code",
   "execution_count": 9,
   "id": "bd42b972",
   "metadata": {
    "ExecuteTime": {
     "end_time": "2021-07-24T08:29:32.014558Z",
     "start_time": "2021-07-24T08:29:31.999258Z"
    }
   },
   "outputs": [
    {
     "data": {
      "text/plain": [
       "0.8"
      ]
     },
     "execution_count": 9,
     "metadata": {},
     "output_type": "execute_result"
    }
   ],
   "source": [
    "a"
   ]
  },
  {
   "cell_type": "code",
   "execution_count": 10,
   "id": "3c4b02e1",
   "metadata": {
    "ExecuteTime": {
     "end_time": "2021-07-24T08:29:32.038015Z",
     "start_time": "2021-07-24T08:29:32.018647Z"
    }
   },
   "outputs": [
    {
     "data": {
      "text/plain": [
       "0.39999999999999947"
      ]
     },
     "execution_count": 10,
     "metadata": {},
     "output_type": "execute_result"
    }
   ],
   "source": [
    "b"
   ]
  },
  {
   "cell_type": "code",
   "execution_count": 11,
   "id": "a47e1954",
   "metadata": {
    "ExecuteTime": {
     "end_time": "2021-07-24T08:29:32.052597Z",
     "start_time": "2021-07-24T08:29:32.038015Z"
    }
   },
   "outputs": [],
   "source": [
    "y_hat = a * x + b"
   ]
  },
  {
   "cell_type": "code",
   "execution_count": 12,
   "id": "55b1dfd3",
   "metadata": {
    "ExecuteTime": {
     "end_time": "2021-07-24T08:29:32.285306Z",
     "start_time": "2021-07-24T08:29:32.052653Z"
    }
   },
   "outputs": [
    {
     "data": {
      "image/png": "[encoded data removed]",
      "text/plain": [
       "<Figure size 432x288 with 1 Axes>"
      ]
     },
     "metadata": {
      "needs_background": "light"
     },
     "output_type": "display_data"
    }
   ],
   "source": [
    "plt.scatter(x, y)\n",
    "plt.plot(x, y_hat, color='r')\n",
    "plt.axis([0,6,0,6])\n",
    "plt.show()"
   ]
  },
  {
   "cell_type": "code",
   "execution_count": 13,
   "id": "6507ecff",
   "metadata": {
    "ExecuteTime": {
     "end_time": "2021-07-24T08:29:32.300714Z",
     "start_time": "2021-07-24T08:29:32.285657Z"
    }
   },
   "outputs": [],
   "source": [
    "x_predict = 6 # 预测6\n",
    "y_predict = a * x_predict + b"
   ]
  },
  {
   "cell_type": "code",
   "execution_count": 14,
   "id": "9bcdf4e5",
   "metadata": {
    "ExecuteTime": {
     "end_time": "2021-07-24T08:29:32.344726Z",
     "start_time": "2021-07-24T08:29:32.303580Z"
    }
   },
   "outputs": [
    {
     "data": {
      "text/plain": [
       "5.2"
      ]
     },
     "execution_count": 14,
     "metadata": {},
     "output_type": "execute_result"
    }
   ],
   "source": [
    "y_predict"
   ]
  },
  {
   "cell_type": "markdown",
   "id": "af7ee40b",
   "metadata": {},
   "source": [
    "## 使用我们自己封装的：SimpleLinearRegression"
   ]
  },
  {
   "cell_type": "code",
   "execution_count": 15,
   "id": "e42a8230",
   "metadata": {
    "ExecuteTime": {
     "end_time": "2021-07-24T08:29:32.369882Z",
     "start_time": "2021-07-24T08:29:32.344840Z"
    }
   },
   "outputs": [
    {
     "data": {
      "text/plain": [
       "SimpleLinearRegression1()"
      ]
     },
     "execution_count": 15,
     "metadata": {},
     "output_type": "execute_result"
    }
   ],
   "source": [
    "from playML.SimpleLinearRegression import SimpleLinearRegression1\n",
    "\n",
    "reg1 = SimpleLinearRegression1()\n",
    "reg1.fit(x, y)"
   ]
  },
  {
   "cell_type": "code",
   "execution_count": 16,
   "id": "5293cd32",
   "metadata": {
    "ExecuteTime": {
     "end_time": "2021-07-24T08:29:32.389942Z",
     "start_time": "2021-07-24T08:29:32.369882Z"
    }
   },
   "outputs": [
    {
     "data": {
      "text/plain": [
       "array([5.2])"
      ]
     },
     "execution_count": 16,
     "metadata": {},
     "output_type": "execute_result"
    }
   ],
   "source": [
    "reg1.predict(np.array([x_predict]))"
   ]
  },
  {
   "cell_type": "code",
   "execution_count": 17,
   "id": "216576e2",
   "metadata": {
    "ExecuteTime": {
     "end_time": "2021-07-24T08:29:32.405959Z",
     "start_time": "2021-07-24T08:29:32.389942Z"
    }
   },
   "outputs": [
    {
     "data": {
      "text/plain": [
       "0.8"
      ]
     },
     "execution_count": 17,
     "metadata": {},
     "output_type": "execute_result"
    }
   ],
   "source": [
    "reg1.a_"
   ]
  },
  {
   "cell_type": "code",
   "execution_count": 18,
   "id": "23896bde",
   "metadata": {
    "ExecuteTime": {
     "end_time": "2021-07-24T08:29:32.419881Z",
     "start_time": "2021-07-24T08:29:32.408822Z"
    }
   },
   "outputs": [
    {
     "data": {
      "text/plain": [
       "0.39999999999999947"
      ]
     },
     "execution_count": 18,
     "metadata": {},
     "output_type": "execute_result"
    }
   ],
   "source": [
    "reg1.b_"
   ]
  },
  {
   "cell_type": "code",
   "execution_count": 19,
   "id": "9766da5c",
   "metadata": {
    "ExecuteTime": {
     "end_time": "2021-07-24T08:29:32.657017Z",
     "start_time": "2021-07-24T08:29:32.420381Z"
    }
   },
   "outputs": [
    {
     "data": {
      "image/png": "[encoded data removed]",
      "text/plain": [
       "<Figure size 432x288 with 1 Axes>"
      ]
     },
     "metadata": {
      "needs_background": "light"
     },
     "output_type": "display_data"
    }
   ],
   "source": [
    "plt.scatter(x, y)\n",
    "plt.plot(x, y_hat, color='r')\n",
    "plt.axis([0,6,0,6])\n",
    "plt.show()"
   ]
  },
  {
   "cell_type": "markdown",
   "id": "6f78d46c",
   "metadata": {},
   "source": [
    "## 使用优化后（向量）的SimpleLinearRegression"
   ]
  },
  {
   "cell_type": "code",
   "execution_count": 20,
   "id": "a443497e",
   "metadata": {
    "ExecuteTime": {
     "end_time": "2021-07-24T08:29:32.673127Z",
     "start_time": "2021-07-24T08:29:32.657017Z"
    }
   },
   "outputs": [],
   "source": [
    "from playML.SimpleLinearRegression import SimpleLinearRegression2"
   ]
  },
  {
   "cell_type": "code",
   "execution_count": 21,
   "id": "cade3eaf",
   "metadata": {
    "ExecuteTime": {
     "end_time": "2021-07-24T08:29:32.725473Z",
     "start_time": "2021-07-24T08:29:32.675431Z"
    }
   },
   "outputs": [
    {
     "data": {
      "text/plain": [
       "SimpleLinearRegression2()"
      ]
     },
     "execution_count": 21,
     "metadata": {},
     "output_type": "execute_result"
    }
   ],
   "source": [
    "reg2 = SimpleLinearRegression2()\n",
    "reg2.fit(x, y)"
   ]
  },
  {
   "cell_type": "code",
   "execution_count": 22,
   "id": "3046219c",
   "metadata": {
    "ExecuteTime": {
     "end_time": "2021-07-24T08:29:48.992851Z",
     "start_time": "2021-07-24T08:29:48.978102Z"
    }
   },
   "outputs": [
    {
     "data": {
      "text/plain": [
       "0.8"
      ]
     },
     "execution_count": 22,
     "metadata": {},
     "output_type": "execute_result"
    }
   ],
   "source": [
    "reg2.a_"
   ]
  },
  {
   "cell_type": "code",
   "execution_count": 23,
   "id": "4c22d6a8",
   "metadata": {
    "ExecuteTime": {
     "end_time": "2021-07-24T08:29:55.300603Z",
     "start_time": "2021-07-24T08:29:55.293890Z"
    }
   },
   "outputs": [
    {
     "data": {
      "text/plain": [
       "0.39999999999999947"
      ]
     },
     "execution_count": 23,
     "metadata": {},
     "output_type": "execute_result"
    }
   ],
   "source": [
    "reg2.b_"
   ]
  },
  {
   "cell_type": "code",
   "execution_count": 24,
   "id": "1a0ca075",
   "metadata": {
    "ExecuteTime": {
     "end_time": "2021-07-24T08:30:26.639803Z",
     "start_time": "2021-07-24T08:30:26.401581Z"
    }
   },
   "outputs": [
    {
     "data": {
      "image/png": "[encoded data removed]",
      "text/plain": [
       "<Figure size 432x288 with 1 Axes>"
      ]
     },
     "metadata": {
      "needs_background": "light"
     },
     "output_type": "display_data"
    }
   ],
   "source": [
    "y_hat2 = reg2.predict(x)\n",
    "\n",
    "plt.scatter(x, y)\n",
    "plt.plot(x, y_hat2, color='r')\n",
    "plt.axis([0,6,0,6])\n",
    "plt.show()"
   ]
  },
  {
   "cell_type": "markdown",
   "id": "4b2115bd",
   "metadata": {},
   "source": [
    "# 性能测试"
   ]
  },
  {
   "cell_type": "code",
   "execution_count": 25,
   "id": "98f2719c",
   "metadata": {
    "ExecuteTime": {
     "end_time": "2021-07-24T08:32:13.250593Z",
     "start_time": "2021-07-24T08:32:13.150610Z"
    }
   },
   "outputs": [],
   "source": [
    "m = 1000000\n",
    "big_x = np.random.random(size=m)\n",
    "big_y = big_x * 2.0 + 3.0 + np.random.normal(size=m)"
   ]
  },
  {
   "cell_type": "code",
   "execution_count": 26,
   "id": "42bd6cca",
   "metadata": {
    "ExecuteTime": {
     "end_time": "2021-07-24T08:33:04.309339Z",
     "start_time": "2021-07-24T08:32:45.868502Z"
    }
   },
   "outputs": [
    {
     "name": "stdout",
     "output_type": "stream",
     "text": [
      "2.09 s ± 15.6 ms per loop (mean ± std. dev. of 7 runs, 1 loop each)\n",
      "21.9 ms ± 1.27 ms per loop (mean ± std. dev. of 7 runs, 10 loops each)\n"
     ]
    }
   ],
   "source": [
    "%timeit reg1.fit(big_x, big_y)\n",
    "%timeit reg2.fit(big_x, big_y)"
   ]
  },
  {
   "cell_type": "code",
   "execution_count": 28,
   "id": "e99bac92",
   "metadata": {
    "ExecuteTime": {
     "end_time": "2021-07-24T08:33:53.520999Z",
     "start_time": "2021-07-24T08:33:53.504928Z"
    }
   },
   "outputs": [
    {
     "data": {
      "text/plain": [
       "1.9962505910818937"
      ]
     },
     "execution_count": 28,
     "metadata": {},
     "output_type": "execute_result"
    }
   ],
   "source": [
    "reg1.a_"
   ]
  },
  {
   "cell_type": "code",
   "execution_count": 30,
   "id": "71daa47f",
   "metadata": {
    "ExecuteTime": {
     "end_time": "2021-07-24T08:33:59.577805Z",
     "start_time": "2021-07-24T08:33:59.570238Z"
    }
   },
   "outputs": [
    {
     "data": {
      "text/plain": [
       "3.0022987554633853"
      ]
     },
     "execution_count": 30,
     "metadata": {},
     "output_type": "execute_result"
    }
   ],
   "source": [
    "reg1.b_"
   ]
  },
  {
   "cell_type": "code",
   "execution_count": 31,
   "id": "69a978f2",
   "metadata": {
    "ExecuteTime": {
     "end_time": "2021-07-24T08:34:04.318318Z",
     "start_time": "2021-07-24T08:34:04.302206Z"
    }
   },
   "outputs": [
    {
     "data": {
      "text/plain": [
       "1.9962505910817787"
      ]
     },
     "execution_count": 31,
     "metadata": {},
     "output_type": "execute_result"
    }
   ],
   "source": [
    "reg2.a_"
   ]
  },
  {
   "cell_type": "code",
   "execution_count": 32,
   "id": "b6073600",
   "metadata": {
    "ExecuteTime": {
     "end_time": "2021-07-24T08:34:09.302010Z",
     "start_time": "2021-07-24T08:34:09.288541Z"
    }
   },
   "outputs": [
    {
     "data": {
      "text/plain": [
       "3.0022987554634426"
      ]
     },
     "execution_count": 32,
     "metadata": {},
     "output_type": "execute_result"
    }
   ],
   "source": [
    "reg2.b_"
   ]
  },
  {
   "cell_type": "code",
   "execution_count": null,
   "id": "c5a0a509",
   "metadata": {},
   "outputs": [],
   "source": []
  }
 ],
 "metadata": {
  "kernelspec": {
   "display_name": "Python 3",
   "language": "python",
   "name": "python3"
  },
  "language_info": {
   "codemirror_mode": {
    "name": "ipython",
    "version": 3
   },
   "file_extension": ".py",
   "mimetype": "text/x-python",
   "name": "python",
   "nbconvert_exporter": "python",
   "pygments_lexer": "ipython3",
   "version": "3.8.8"
  },
  "toc": {
   "base_numbering": 1,
   "nav_menu": {},
   "number_sections": true,
   "sideBar": true,
   "skip_h1_title": false,
   "title_cell": "Table of Contents",
   "title_sidebar": "Contents",
   "toc_cell": false,
   "toc_position": {},
   "toc_section_display": true,
   "toc_window_display": false
  },
  "varInspector": {
   "cols": {
    "lenName": 16,
    "lenType": 16,
    "lenVar": 40
   },
   "kernels_config": {
    "python": {
     "delete_cmd_postfix": "",
     "delete_cmd_prefix": "del ",
     "library": "var_list.py",
     "varRefreshCmd": "print(var_dic_list())"
    },
    "r": {
     "delete_cmd_postfix": ") ",
     "delete_cmd_prefix": "rm(",
     "library": "var_list.r",
     "varRefreshCmd": "cat(var_dic_list()) "
    }
   },
   "types_to_exclude": [
    "module",
    "function",
    "builtin_function_or_method",
    "instance",
    "_Feature"
   ],
   "window_display": false
  }
 },
 "nbformat": 4,
 "nbformat_minor": 5
}
