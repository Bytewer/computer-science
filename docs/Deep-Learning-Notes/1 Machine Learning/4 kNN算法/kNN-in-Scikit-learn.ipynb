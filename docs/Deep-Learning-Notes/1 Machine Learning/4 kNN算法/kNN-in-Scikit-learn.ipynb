{
 "cells": [
  {
   "cell_type": "markdown",
   "id": "323921f8",
   "metadata": {},
   "source": [
    "# 使用scikit-learn中的kNN"
   ]
  },
  {
   "cell_type": "code",
   "execution_count": 9,
   "id": "94becfc3",
   "metadata": {},
   "outputs": [],
   "source": [
    "import numpy as np\n",
    "raw_data_X = [[3.393533211, 2.331273381],\n",
    "              [3.110073483, 1.781539638],\n",
    "              [1.343808831, 3.368360954],\n",
    "              [3.582294042, 4.679179110],\n",
    "              [2.280362439, 2.866990263],\n",
    "              [7.423436942, 4.696522875],\n",
    "              [5.745051997, 3.533989803],\n",
    "              [9.172168622, 2.511101045],\n",
    "              [7.792783481, 3.424088941],\n",
    "              [7.939820817, 0.791637231]\n",
    "             ]\n",
    "raw_data_y = [0, 0, 0, 0, 0, 1, 1, 1, 1, 1]\n",
    "X_train = np.array(raw_data_X)\n",
    "y_train = np.array(raw_data_y)\n",
    "x = np.array([8.093607318, 3.365731514])"
   ]
  },
  {
   "cell_type": "code",
   "execution_count": 10,
   "id": "812cd176",
   "metadata": {},
   "outputs": [],
   "source": [
    "from sklearn.neighbors import KNeighborsClassifier"
   ]
  },
  {
   "cell_type": "code",
   "execution_count": 11,
   "id": "ef4ddc0c",
   "metadata": {},
   "outputs": [],
   "source": [
    "kNN_classifier = KNeighborsClassifier(n_neighbors=6)"
   ]
  },
  {
   "cell_type": "code",
   "execution_count": 12,
   "id": "4c3ffa0c",
   "metadata": {},
   "outputs": [
    {
     "data": {
      "text/plain": [
       "KNeighborsClassifier(n_neighbors=6)"
      ]
     },
     "execution_count": 12,
     "metadata": {},
     "output_type": "execute_result"
    }
   ],
   "source": [
    "kNN_classifier.fit(X_train, y_train) # 拟合"
   ]
  },
  {
   "cell_type": "code",
   "execution_count": 14,
   "id": "f079e36b",
   "metadata": {},
   "outputs": [],
   "source": [
    "x_predict = x.reshape(1, -1) # predict 传入的参数必须是一个矩阵"
   ]
  },
  {
   "cell_type": "code",
   "execution_count": 15,
   "id": "65e90f98",
   "metadata": {},
   "outputs": [
    {
     "data": {
      "text/plain": [
       "array([[8.09360732, 3.36573151]])"
      ]
     },
     "execution_count": 15,
     "metadata": {},
     "output_type": "execute_result"
    }
   ],
   "source": [
    "x_predict"
   ]
  },
  {
   "cell_type": "code",
   "execution_count": 17,
   "id": "59b14b67",
   "metadata": {},
   "outputs": [],
   "source": [
    "y_predict = kNN_classifier.predict(x_predict)"
   ]
  },
  {
   "cell_type": "code",
   "execution_count": 18,
   "id": "e8e3abd7",
   "metadata": {},
   "outputs": [
    {
     "data": {
      "text/plain": [
       "1"
      ]
     },
     "execution_count": 18,
     "metadata": {},
     "output_type": "execute_result"
    }
   ],
   "source": [
    " y_predict[0]"
   ]
  },
  {
   "cell_type": "markdown",
   "id": "4b70f9ce",
   "metadata": {},
   "source": [
    "## 重新整理kNN代码"
   ]
  },
  {
   "cell_type": "code",
   "execution_count": null,
   "id": "a2dc571b",
   "metadata": {},
   "outputs": [],
   "source": []
  }
 ],
 "metadata": {
  "kernelspec": {
   "display_name": "Python 3",
   "language": "python",
   "name": "python3"
  },
  "language_info": {
   "codemirror_mode": {
    "name": "ipython",
    "version": 3
   },
   "file_extension": ".py",
   "mimetype": "text/x-python",
   "name": "python",
   "nbconvert_exporter": "python",
   "pygments_lexer": "ipython3",
   "version": "3.8.8"
  }
 },
 "nbformat": 4,
 "nbformat_minor": 5
}
