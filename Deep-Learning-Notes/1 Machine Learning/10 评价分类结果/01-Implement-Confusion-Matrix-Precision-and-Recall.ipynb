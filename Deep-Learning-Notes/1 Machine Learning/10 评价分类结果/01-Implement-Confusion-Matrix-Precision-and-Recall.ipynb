{
 "cells": [
  {
   "cell_type": "markdown",
   "source": [
    "## 实现混淆矩阵，精准率和召回率"
   ],
   "metadata": {}
  },
  {
   "cell_type": "code",
   "execution_count": 2,
   "source": [
    "import numpy as np\r\n",
    "from sklearn import datasets"
   ],
   "outputs": [],
   "metadata": {}
  },
  {
   "cell_type": "code",
   "execution_count": 4,
   "source": [
    "digits = datasets.load_digits()\r\n",
    "X = digits.data\r\n",
    "y = digits.target.copy()\r\n",
    "\r\n",
    "y[digits.target==9] = 1\r\n",
    "y[digits.target!=9] = 0"
   ],
   "outputs": [],
   "metadata": {}
  },
  {
   "cell_type": "code",
   "execution_count": 5,
   "source": [
    "from sklearn.model_selection import train_test_split\r\n",
    "X_train, X_test, y_train, y_test = train_test_split(X, y, random_state=666)"
   ],
   "outputs": [],
   "metadata": {}
  },
  {
   "cell_type": "code",
   "execution_count": 6,
   "source": [
    "from sklearn.linear_model import LogisticRegression\r\n",
    "\r\n",
    "log_reg = LogisticRegression()\r\n",
    "log_reg.fit(X_train, y_train)\r\n",
    "log_reg.score(X_test, y_test)"
   ],
   "outputs": [
    {
     "output_type": "stream",
     "name": "stderr",
     "text": [
      "C:\\Users\\Administrator\\AppData\\Local\\Programs\\Python\\Python38\\lib\\site-packages\\sklearn\\linear_model\\_logistic.py:763: ConvergenceWarning: lbfgs failed to converge (status=1):\n",
      "STOP: TOTAL NO. of ITERATIONS REACHED LIMIT.\n",
      "\n",
      "Increase the number of iterations (max_iter) or scale the data as shown in:\n",
      "    https://scikit-learn.org/stable/modules/preprocessing.html\n",
      "Please also refer to the documentation for alternative solver options:\n",
      "    https://scikit-learn.org/stable/modules/linear_model.html#logistic-regression\n",
      "  n_iter_i = _check_optimize_result(\n"
     ]
    },
    {
     "output_type": "execute_result",
     "data": {
      "text/plain": [
       "0.9755555555555555"
      ]
     },
     "metadata": {},
     "execution_count": 6
    }
   ],
   "metadata": {}
  },
  {
   "cell_type": "code",
   "execution_count": 7,
   "source": [
    "y_log_predict = log_reg.predict(X_test)"
   ],
   "outputs": [],
   "metadata": {}
  },
  {
   "cell_type": "code",
   "execution_count": 9,
   "source": [
    "def TN(y_true, y_predict):\r\n",
    "    assert len(y_true) == len(y_predict)\r\n",
    "    return np.sum((y_true == 0) & (y_predict == 0))\r\n",
    "\r\n",
    "TN(y_test, y_log_predict)"
   ],
   "outputs": [
    {
     "output_type": "execute_result",
     "data": {
      "text/plain": [
       "403"
      ]
     },
     "metadata": {},
     "execution_count": 9
    }
   ],
   "metadata": {}
  },
  {
   "cell_type": "code",
   "execution_count": 10,
   "source": [
    "def FP(y_true, y_predict):\r\n",
    "    assert len(y_true) == len(y_predict)\r\n",
    "    return np.sum((y_true == 0) & (y_predict == 1))\r\n",
    "FP(y_test, y_log_predict)"
   ],
   "outputs": [
    {
     "output_type": "execute_result",
     "data": {
      "text/plain": [
       "2"
      ]
     },
     "metadata": {},
     "execution_count": 10
    }
   ],
   "metadata": {}
  },
  {
   "cell_type": "code",
   "execution_count": 11,
   "source": [
    "def FN(y_true, y_predict):\r\n",
    "    assert len(y_true) == len(y_predict)\r\n",
    "    return np.sum((y_true == 1) & (y_predict == 0))\r\n",
    "FN(y_test, y_log_predict)"
   ],
   "outputs": [
    {
     "output_type": "execute_result",
     "data": {
      "text/plain": [
       "9"
      ]
     },
     "metadata": {},
     "execution_count": 11
    }
   ],
   "metadata": {}
  },
  {
   "cell_type": "code",
   "execution_count": 12,
   "source": [
    "def TP(y_true, y_predict):\r\n",
    "    assert len(y_true) == len(y_predict)\r\n",
    "    return np.sum((y_true == 1) & (y_predict == 1))\r\n",
    "\r\n",
    "TP(y_test, y_log_predict)"
   ],
   "outputs": [
    {
     "output_type": "execute_result",
     "data": {
      "text/plain": [
       "36"
      ]
     },
     "metadata": {},
     "execution_count": 12
    }
   ],
   "metadata": {}
  },
  {
   "cell_type": "code",
   "execution_count": 13,
   "source": [
    "def confusion_matrix(y_true, y_predict):\r\n",
    "    return np.array([\r\n",
    "        [TN(y_true, y_predict), FP(y_true, y_predict)],\r\n",
    "        [FN(y_true, y_predict), TP(y_true, y_predict)]\r\n",
    "    ])\r\n",
    "\r\n",
    "confusion_matrix(y_test, y_log_predict)"
   ],
   "outputs": [
    {
     "output_type": "execute_result",
     "data": {
      "text/plain": [
       "array([[403,   2],\n",
       "       [  9,  36]])"
      ]
     },
     "metadata": {},
     "execution_count": 13
    }
   ],
   "metadata": {}
  },
  {
   "cell_type": "code",
   "execution_count": 14,
   "source": [
    "def precision_score(y_true, y_predict):\r\n",
    "    tp = TP(y_true, y_predict)\r\n",
    "    fp = FP(y_true, y_predict)\r\n",
    "    try:\r\n",
    "        return tp / (tp + fp)\r\n",
    "    except:\r\n",
    "        return 0.0\r\n",
    "\r\n",
    "precision_score(y_test, y_log_predict)"
   ],
   "outputs": [
    {
     "output_type": "execute_result",
     "data": {
      "text/plain": [
       "0.9473684210526315"
      ]
     },
     "metadata": {},
     "execution_count": 14
    }
   ],
   "metadata": {}
  },
  {
   "cell_type": "code",
   "execution_count": 15,
   "source": [
    "def recall_score(y_true, y_predict):\r\n",
    "    tp = TP(y_true, y_predict)\r\n",
    "    fn = FN(y_true, y_predict)\r\n",
    "    try:\r\n",
    "        return tp / (tp + fn)\r\n",
    "    except:\r\n",
    "        return 0.0\r\n",
    "\r\n",
    "recall_score(y_test, y_log_predict)"
   ],
   "outputs": [
    {
     "output_type": "execute_result",
     "data": {
      "text/plain": [
       "0.8"
      ]
     },
     "metadata": {},
     "execution_count": 15
    }
   ],
   "metadata": {}
  },
  {
   "cell_type": "markdown",
   "source": [
    "### scikit-learn的混淆矩阵，精准率和召回率"
   ],
   "metadata": {}
  },
  {
   "cell_type": "code",
   "execution_count": 16,
   "source": [
    "from sklearn.metrics import confusion_matrix\r\n",
    "\r\n",
    "confusion_matrix(y_test, y_log_predict)"
   ],
   "outputs": [
    {
     "output_type": "execute_result",
     "data": {
      "text/plain": [
       "array([[403,   2],\n",
       "       [  9,  36]], dtype=int64)"
      ]
     },
     "metadata": {},
     "execution_count": 16
    }
   ],
   "metadata": {}
  },
  {
   "cell_type": "code",
   "execution_count": 17,
   "source": [
    "from sklearn.metrics import precision_score\r\n",
    "\r\n",
    "precision_score(y_test, y_log_predict)"
   ],
   "outputs": [
    {
     "output_type": "execute_result",
     "data": {
      "text/plain": [
       "0.9473684210526315"
      ]
     },
     "metadata": {},
     "execution_count": 17
    }
   ],
   "metadata": {}
  },
  {
   "cell_type": "code",
   "execution_count": 18,
   "source": [
    "from sklearn.metrics import recall_score\r\n",
    "\r\n",
    "recall_score(y_test, y_log_predict)"
   ],
   "outputs": [
    {
     "output_type": "execute_result",
     "data": {
      "text/plain": [
       "0.8"
      ]
     },
     "metadata": {},
     "execution_count": 18
    }
   ],
   "metadata": {}
  },
  {
   "cell_type": "code",
   "execution_count": null,
   "source": [],
   "outputs": [],
   "metadata": {}
  }
 ],
 "metadata": {
  "orig_nbformat": 4,
  "language_info": {
   "name": "python",
   "version": "3.8.10",
   "mimetype": "text/x-python",
   "codemirror_mode": {
    "name": "ipython",
    "version": 3
   },
   "pygments_lexer": "ipython3",
   "nbconvert_exporter": "python",
   "file_extension": ".py"
  },
  "kernelspec": {
   "name": "python3",
   "display_name": "Python 3.8.10 64-bit"
  },
  "interpreter": {
   "hash": "004de6046f1b3d314f33fdb43a2dc798b2646e5600efd8df5066c8b63a00ff6d"
  }
 },
 "nbformat": 4,
 "nbformat_minor": 2
}