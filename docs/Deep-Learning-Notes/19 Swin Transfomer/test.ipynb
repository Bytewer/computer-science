{
 "cells": [
  {
   "cell_type": "code",
   "execution_count": 98,
   "metadata": {
    "collapsed": true
   },
   "outputs": [],
   "source": [
    "import torch"
   ]
  },
  {
   "cell_type": "code",
   "execution_count": 99,
   "outputs": [
    {
     "data": {
      "text/plain": "tensor([0, 1])"
     },
     "execution_count": 99,
     "metadata": {},
     "output_type": "execute_result"
    }
   ],
   "source": [
    "# 计算出来的Attention张量形状为(numWindows*B, num_heads, window_size*window_size, window_size*window_size)\n",
    "coords_h = torch.arange(2)\n",
    "coords_h"
   ],
   "metadata": {
    "collapsed": false,
    "pycharm": {
     "name": "#%%\n"
    }
   }
  },
  {
   "cell_type": "code",
   "execution_count": 100,
   "outputs": [
    {
     "data": {
      "text/plain": "tensor([0, 1])"
     },
     "execution_count": 100,
     "metadata": {},
     "output_type": "execute_result"
    }
   ],
   "source": [
    "coords_w = torch.arange(2)\n",
    "coords_w"
   ],
   "metadata": {
    "collapsed": false,
    "pycharm": {
     "name": "#%%\n"
    }
   }
  },
  {
   "cell_type": "code",
   "execution_count": 101,
   "outputs": [
    {
     "data": {
      "text/plain": "(tensor([[0, 0],\n         [1, 1]]),\n tensor([[0, 1],\n         [0, 1]]))"
     },
     "execution_count": 101,
     "metadata": {},
     "output_type": "execute_result"
    }
   ],
   "source": [
    "# x1 ,y1 = torch.meshgrid(x,y)\n",
    "# 输出的是两个tensor，size就是x.size * y.size（行数是x的个数，列数是y的个数）\n",
    "coords = torch.meshgrid([coords_h, coords_w])\n",
    "coords"
   ],
   "metadata": {
    "collapsed": false,
    "pycharm": {
     "name": "#%%\n"
    }
   }
  },
  {
   "cell_type": "code",
   "execution_count": 102,
   "outputs": [
    {
     "data": {
      "text/plain": "tensor([[[0, 0],\n         [1, 1]],\n\n        [[0, 1],\n         [0, 1]]])"
     },
     "execution_count": 102,
     "metadata": {},
     "output_type": "execute_result"
    }
   ],
   "source": [
    "coords = torch.stack(coords)\n",
    "coords"
   ],
   "metadata": {
    "collapsed": false,
    "pycharm": {
     "name": "#%%\n"
    }
   }
  },
  {
   "cell_type": "code",
   "execution_count": 103,
   "outputs": [
    {
     "data": {
      "text/plain": "tensor([[0, 0, 1, 1],\n        [0, 1, 0, 1]])"
     },
     "execution_count": 103,
     "metadata": {},
     "output_type": "execute_result"
    }
   ],
   "source": [
    "coords_flatten = torch.flatten(coords, 1)\n",
    "coords_flatten"
   ],
   "metadata": {
    "collapsed": false,
    "pycharm": {
     "name": "#%%\n"
    }
   }
  },
  {
   "cell_type": "code",
   "execution_count": 105,
   "outputs": [
    {
     "data": {
      "text/plain": "tensor([[[0],\n         [0],\n         [1],\n         [1]],\n\n        [[0],\n         [1],\n         [0],\n         [1]]])"
     },
     "execution_count": 105,
     "metadata": {},
     "output_type": "execute_result"
    }
   ],
   "source": [
    "# 在第三个shape处加上None的作用：每一行的元素一个一个按列排序，且每一行排列出来的元素为一个axis=1的向量\n",
    "\n",
    "# 利用广播机制，分别在第一维，第二维，插入一个维度，进行广播相减，得到 2, wh*ww, wh*ww的张量\n",
    "relative_coords_first = coords_flatten[:, :, None]  # 2, wh*ww, 1\n",
    "relative_coords_first"
   ],
   "metadata": {
    "collapsed": false,
    "pycharm": {
     "name": "#%%\n"
    }
   }
  },
  {
   "cell_type": "code",
   "execution_count": 106,
   "outputs": [
    {
     "data": {
      "text/plain": "tensor([[[0, 0, 1, 1]],\n\n        [[0, 1, 0, 1]]])"
     },
     "execution_count": 106,
     "metadata": {},
     "output_type": "execute_result"
    }
   ],
   "source": [
    "relative_coords_second = coords_flatten[:, None, :]  # 2, 1, wh*ww\n",
    "relative_coords_second"
   ],
   "metadata": {
    "collapsed": false,
    "pycharm": {
     "name": "#%%\n"
    }
   }
  },
  {
   "cell_type": "code",
   "execution_count": 107,
   "outputs": [
    {
     "data": {
      "text/plain": "tensor([[[ 0,  0, -1, -1],\n         [ 0,  0, -1, -1],\n         [ 1,  1,  0,  0],\n         [ 1,  1,  0,  0]],\n\n        [[ 0, -1,  0, -1],\n         [ 1,  0,  1,  0],\n         [ 0, -1,  0, -1],\n         [ 1,  0,  1,  0]]])"
     },
     "execution_count": 107,
     "metadata": {},
     "output_type": "execute_result"
    }
   ],
   "source": [
    "relative_coords = relative_coords_first - relative_coords_second  # 最终得到 2, wh*ww, wh*ww 形状的张量\n",
    "relative_coords"
   ],
   "metadata": {
    "collapsed": false,
    "pycharm": {
     "name": "#%%\n"
    }
   }
  },
  {
   "cell_type": "code",
   "execution_count": 108,
   "outputs": [
    {
     "data": {
      "text/plain": "tensor([[[ 0,  0],\n         [ 0, -1],\n         [-1,  0],\n         [-1, -1]],\n\n        [[ 0,  1],\n         [ 0,  0],\n         [-1,  1],\n         [-1,  0]],\n\n        [[ 1,  0],\n         [ 1, -1],\n         [ 0,  0],\n         [ 0, -1]],\n\n        [[ 1,  1],\n         [ 1,  0],\n         [ 0,  1],\n         [ 0,  0]]])"
     },
     "execution_count": 108,
     "metadata": {},
     "output_type": "execute_result"
    }
   ],
   "source": [
    "relative_coords = relative_coords.permute(1, 2, 0).contiguous()  # Wh*Ww, Wh*Ww, 2\n",
    "relative_coords"
   ],
   "metadata": {
    "collapsed": false,
    "pycharm": {
     "name": "#%%\n"
    }
   }
  },
  {
   "cell_type": "code",
   "execution_count": 109,
   "outputs": [
    {
     "data": {
      "text/plain": "tensor([[[ 1,  0],\n         [ 1, -1],\n         [ 0,  0],\n         [ 0, -1]],\n\n        [[ 1,  1],\n         [ 1,  0],\n         [ 0,  1],\n         [ 0,  0]],\n\n        [[ 2,  0],\n         [ 2, -1],\n         [ 1,  0],\n         [ 1, -1]],\n\n        [[ 2,  1],\n         [ 2,  0],\n         [ 1,  1],\n         [ 1,  0]]])"
     },
     "execution_count": 109,
     "metadata": {},
     "output_type": "execute_result"
    }
   ],
   "source": [
    "# 因为采取的是相减，所以得到的索引是从负数开始的，我们加上偏移量，让其从0开始\n",
    "relative_coords[:, :, 0] += 2 - 1\n",
    "relative_coords"
   ],
   "metadata": {
    "collapsed": false,
    "pycharm": {
     "name": "#%%\n"
    }
   }
  },
  {
   "cell_type": "code",
   "execution_count": 110,
   "outputs": [
    {
     "data": {
      "text/plain": "tensor([[[1, 1],\n         [1, 0],\n         [0, 1],\n         [0, 0]],\n\n        [[1, 2],\n         [1, 1],\n         [0, 2],\n         [0, 1]],\n\n        [[2, 1],\n         [2, 0],\n         [1, 1],\n         [1, 0]],\n\n        [[2, 2],\n         [2, 1],\n         [1, 2],\n         [1, 1]]])"
     },
     "execution_count": 110,
     "metadata": {},
     "output_type": "execute_result"
    }
   ],
   "source": [
    "relative_coords[:, :, 1] += 2 - 1\n",
    "relative_coords"
   ],
   "metadata": {
    "collapsed": false,
    "pycharm": {
     "name": "#%%\n"
    }
   }
  },
  {
   "cell_type": "code",
   "execution_count": 110,
   "outputs": [],
   "source": [],
   "metadata": {
    "collapsed": false,
    "pycharm": {
     "name": "#%%\n"
    }
   }
  }
 ],
 "metadata": {
  "kernelspec": {
   "display_name": "Python 3",
   "language": "python",
   "name": "python3"
  },
  "language_info": {
   "codemirror_mode": {
    "name": "ipython",
    "version": 2
   },
   "file_extension": ".py",
   "mimetype": "text/x-python",
   "name": "python",
   "nbconvert_exporter": "python",
   "pygments_lexer": "ipython2",
   "version": "2.7.6"
  }
 },
 "nbformat": 4,
 "nbformat_minor": 0
}