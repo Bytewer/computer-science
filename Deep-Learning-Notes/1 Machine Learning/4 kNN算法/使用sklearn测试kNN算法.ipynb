{
 "cells": [
  {
   "cell_type": "code",
   "execution_count": 2,
   "id": "972e98d5",
   "metadata": {
    "ExecuteTime": {
     "end_time": "2021-07-19T07:43:43.900613Z",
     "start_time": "2021-07-19T07:43:43.891071Z"
    }
   },
   "outputs": [],
   "source": [
    "import numpy as np\n",
    "import matplotlib.pyplot as plt\n",
    "from sklearn import datasets"
   ]
  },
  {
   "cell_type": "code",
   "execution_count": 3,
   "id": "4b621015",
   "metadata": {
    "ExecuteTime": {
     "end_time": "2021-07-19T07:43:43.916532Z",
     "start_time": "2021-07-19T07:43:43.901579Z"
    }
   },
   "outputs": [],
   "source": [
    "iris = datasets.load_iris()"
   ]
  },
  {
   "cell_type": "code",
   "execution_count": 4,
   "id": "b4e065b6",
   "metadata": {
    "ExecuteTime": {
     "end_time": "2021-07-19T07:43:43.932473Z",
     "start_time": "2021-07-19T07:43:43.917522Z"
    }
   },
   "outputs": [],
   "source": [
    "X = iris.data\n",
    "y = iris.target"
   ]
  },
  {
   "cell_type": "code",
   "execution_count": 5,
   "id": "e8a552f6",
   "metadata": {
    "ExecuteTime": {
     "end_time": "2021-07-19T07:43:43.948606Z",
     "start_time": "2021-07-19T07:43:43.933470Z"
    }
   },
   "outputs": [
    {
     "data": {
      "text/plain": [
       "(150, 4)"
      ]
     },
     "execution_count": 5,
     "metadata": {},
     "output_type": "execute_result"
    }
   ],
   "source": [
    "X.shape"
   ]
  },
  {
   "cell_type": "code",
   "execution_count": 6,
   "id": "6d36a6ba",
   "metadata": {
    "ExecuteTime": {
     "end_time": "2021-07-19T07:43:43.964271Z",
     "start_time": "2021-07-19T07:43:43.949499Z"
    },
    "scrolled": true
   },
   "outputs": [
    {
     "data": {
      "text/plain": [
       "(150,)"
      ]
     },
     "execution_count": 6,
     "metadata": {},
     "output_type": "execute_result"
    }
   ],
   "source": [
    "y.shape"
   ]
  },
  {
   "cell_type": "markdown",
   "id": "ea5ab27f",
   "metadata": {},
   "source": [
    "## train_test_split"
   ]
  },
  {
   "cell_type": "code",
   "execution_count": 7,
   "id": "49e051e9",
   "metadata": {
    "ExecuteTime": {
     "end_time": "2021-07-19T07:43:43.980349Z",
     "start_time": "2021-07-19T07:43:43.966209Z"
    },
    "scrolled": true
   },
   "outputs": [
    {
     "data": {
      "text/plain": [
       "array([0, 0, 0, 0, 0, 0, 0, 0, 0, 0, 0, 0, 0, 0, 0, 0, 0, 0, 0, 0, 0, 0,\n",
       "       0, 0, 0, 0, 0, 0, 0, 0, 0, 0, 0, 0, 0, 0, 0, 0, 0, 0, 0, 0, 0, 0,\n",
       "       0, 0, 0, 0, 0, 0, 1, 1, 1, 1, 1, 1, 1, 1, 1, 1, 1, 1, 1, 1, 1, 1,\n",
       "       1, 1, 1, 1, 1, 1, 1, 1, 1, 1, 1, 1, 1, 1, 1, 1, 1, 1, 1, 1, 1, 1,\n",
       "       1, 1, 1, 1, 1, 1, 1, 1, 1, 1, 1, 1, 2, 2, 2, 2, 2, 2, 2, 2, 2, 2,\n",
       "       2, 2, 2, 2, 2, 2, 2, 2, 2, 2, 2, 2, 2, 2, 2, 2, 2, 2, 2, 2, 2, 2,\n",
       "       2, 2, 2, 2, 2, 2, 2, 2, 2, 2, 2, 2, 2, 2, 2, 2, 2, 2])"
      ]
     },
     "execution_count": 7,
     "metadata": {},
     "output_type": "execute_result"
    }
   ],
   "source": [
    "y"
   ]
  },
  {
   "cell_type": "code",
   "execution_count": 61,
   "id": "1d379132",
   "metadata": {
    "ExecuteTime": {
     "end_time": "2021-07-19T08:17:08.718635Z",
     "start_time": "2021-07-19T08:17:08.711364Z"
    },
    "scrolled": true
   },
   "outputs": [
    {
     "name": "stdout",
     "output_type": "stream",
     "text": [
      "Help on built-in function permutation:\n",
      "\n",
      "permutation(...) method of numpy.random.mtrand.RandomState instance\n",
      "    permutation(x)\n",
      "    \n",
      "    Randomly permute a sequence, or return a permuted range.\n",
      "    \n",
      "    If `x` is a multi-dimensional array, it is only shuffled along its\n",
      "    first index.\n",
      "    \n",
      "    .. note::\n",
      "        New code should use the ``permutation`` method of a ``default_rng()``\n",
      "        instance instead; please see the :ref:`random-quick-start`.\n",
      "    \n",
      "    Parameters\n",
      "    ----------\n",
      "    x : int or array_like\n",
      "        If `x` is an integer, randomly permute ``np.arange(x)``.\n",
      "        If `x` is an array, make a copy and shuffle the elements\n",
      "        randomly.\n",
      "    \n",
      "    Returns\n",
      "    -------\n",
      "    out : ndarray\n",
      "        Permuted sequence or array range.\n",
      "    \n",
      "    See Also\n",
      "    --------\n",
      "    Generator.permutation: which should be used for new code.\n",
      "    \n",
      "    Examples\n",
      "    --------\n",
      "    >>> np.random.permutation(10)\n",
      "    array([1, 7, 4, 3, 0, 9, 2, 5, 8, 6]) # random\n",
      "    \n",
      "    >>> np.random.permutation([1, 4, 9, 12, 15])\n",
      "    array([15,  1,  9,  4, 12]) # random\n",
      "    \n",
      "    >>> arr = np.arange(9).reshape((3, 3))\n",
      "    >>> np.random.permutation(arr)\n",
      "    array([[6, 7, 8], # random\n",
      "           [0, 1, 2],\n",
      "           [3, 4, 5]])\n",
      "\n"
     ]
    }
   ],
   "source": [
    "help(np.random.permutation)"
   ]
  },
  {
   "cell_type": "code",
   "execution_count": 62,
   "id": "02054612",
   "metadata": {
    "ExecuteTime": {
     "end_time": "2021-07-19T08:17:21.268256Z",
     "start_time": "2021-07-19T08:17:21.262030Z"
    }
   },
   "outputs": [
    {
     "data": {
      "text/plain": [
       "150"
      ]
     },
     "execution_count": 62,
     "metadata": {},
     "output_type": "execute_result"
    }
   ],
   "source": [
    "len(X)"
   ]
  },
  {
   "cell_type": "code",
   "execution_count": 8,
   "id": "d2726a70",
   "metadata": {
    "ExecuteTime": {
     "end_time": "2021-07-19T07:43:43.996237Z",
     "start_time": "2021-07-19T07:43:43.981308Z"
    }
   },
   "outputs": [],
   "source": [
    "shuffle_indexes = np.random.permutation(len(X)) # 打乱索引"
   ]
  },
  {
   "cell_type": "code",
   "execution_count": 9,
   "id": "fa2ff414",
   "metadata": {
    "ExecuteTime": {
     "end_time": "2021-07-19T07:43:44.012183Z",
     "start_time": "2021-07-19T07:43:43.998229Z"
    }
   },
   "outputs": [
    {
     "data": {
      "text/plain": [
       "array([145, 110,  86,  78, 127,  14, 132,  69,  36,  59,   7,  27,  66,\n",
       "        20,  39,  91,  83, 143,  68,  90, 134, 138, 103, 112,  64, 130,\n",
       "        43, 124,  42,  25,  95,  19,  35,  67,  65, 121, 116, 111,  60,\n",
       "        26, 149, 129,  47,   1,  73, 141, 146, 135, 100,  15,  11,  53,\n",
       "       102,  70,  29,  28,   3,  81,  13,  32,   9, 120,  21, 126,  87,\n",
       "        71,  75, 104, 106, 101,  18,  61, 148, 140, 137,  55,  77,  40,\n",
       "        97,  57,  10, 123, 105,  41,  37,  74,  16,  62,  45,  38, 119,\n",
       "        94,  12, 147,  22,   5, 133,  92,   2,   0,  82,  31,  98, 128,\n",
       "        93, 136,  50,  80,  88,  24,  79, 109,  96,  63,  46,  33, 117,\n",
       "        44, 122,  84,   8,  89, 131,   6,  17,   4,  54,  99,  85, 118,\n",
       "        76, 139, 114, 113,  34,  56, 125,  49, 107,  30, 108, 115,  48,\n",
       "        72,  52,  58, 144,  51,  23, 142])"
      ]
     },
     "execution_count": 9,
     "metadata": {},
     "output_type": "execute_result"
    }
   ],
   "source": [
    "shuffle_indexes"
   ]
  },
  {
   "cell_type": "code",
   "execution_count": 10,
   "id": "6011208b",
   "metadata": {
    "ExecuteTime": {
     "end_time": "2021-07-19T07:43:44.027363Z",
     "start_time": "2021-07-19T07:43:44.014176Z"
    }
   },
   "outputs": [],
   "source": [
    "test_ratio = 0.2 # 20% 的测试数据\n",
    "test_size = int(len(X) * test_ratio) # 本次实验测试数据的实际个数 150 * 20% = 30"
   ]
  },
  {
   "cell_type": "code",
   "execution_count": 11,
   "id": "263364dd",
   "metadata": {
    "ExecuteTime": {
     "end_time": "2021-07-19T07:43:44.043394Z",
     "start_time": "2021-07-19T07:43:44.028405Z"
    }
   },
   "outputs": [
    {
     "data": {
      "text/plain": [
       "30"
      ]
     },
     "execution_count": 11,
     "metadata": {},
     "output_type": "execute_result"
    }
   ],
   "source": [
    "test_size"
   ]
  },
  {
   "cell_type": "code",
   "execution_count": 69,
   "id": "e5520f43",
   "metadata": {
    "ExecuteTime": {
     "end_time": "2021-07-19T08:21:38.163721Z",
     "start_time": "2021-07-19T08:21:38.156231Z"
    }
   },
   "outputs": [
    {
     "data": {
      "text/plain": [
       "array([145, 110,  86,  78, 127,  14, 132,  69,  36,  59,   7,  27,  66,\n",
       "        20,  39,  91,  83, 143,  68,  90, 134, 138, 103, 112,  64, 130,\n",
       "        43, 124,  42,  25])"
      ]
     },
     "execution_count": 69,
     "metadata": {},
     "output_type": "execute_result"
    }
   ],
   "source": [
    "test_indexes = shuffle_indexes[:test_size] # 测试数据的索引\n",
    "train_indexes = shuffle_indexes[test_size:] # 训练数据的索引\n",
    "test_indexes"
   ]
  },
  {
   "cell_type": "code",
   "execution_count": 13,
   "id": "e30d016f",
   "metadata": {
    "ExecuteTime": {
     "end_time": "2021-07-19T07:43:44.075413Z",
     "start_time": "2021-07-19T07:43:44.060400Z"
    }
   },
   "outputs": [],
   "source": [
    "X_train = X[train_indexes] # 获取X的训练数据\n",
    "y_train = y[train_indexes] # 获取y的训练数据\n",
    "\n",
    "X_test = X[test_indexes]\n",
    "y_test = y[test_indexes]"
   ]
  },
  {
   "cell_type": "code",
   "execution_count": 14,
   "id": "66067b03",
   "metadata": {
    "ExecuteTime": {
     "end_time": "2021-07-19T07:43:44.090625Z",
     "start_time": "2021-07-19T07:43:44.076409Z"
    }
   },
   "outputs": [
    {
     "name": "stdout",
     "output_type": "stream",
     "text": [
      "(120, 4)\n",
      "(120,)\n"
     ]
    }
   ],
   "source": [
    "print(X_train.shape)\n",
    "print(y_train.shape)"
   ]
  },
  {
   "cell_type": "code",
   "execution_count": 15,
   "id": "213299ed",
   "metadata": {
    "ExecuteTime": {
     "end_time": "2021-07-19T07:43:44.105768Z",
     "start_time": "2021-07-19T07:43:44.091577Z"
    }
   },
   "outputs": [
    {
     "name": "stdout",
     "output_type": "stream",
     "text": [
      "(30, 4)\n",
      "(30,)\n"
     ]
    }
   ],
   "source": [
    "print(X_test.shape)\n",
    "print(y_test.shape)"
   ]
  },
  {
   "cell_type": "markdown",
   "id": "742b276e",
   "metadata": {},
   "source": [
    "## 使用我们的算法"
   ]
  },
  {
   "cell_type": "code",
   "execution_count": 72,
   "id": "06f1d7a1",
   "metadata": {
    "ExecuteTime": {
     "end_time": "2021-07-19T08:30:08.815116Z",
     "start_time": "2021-07-19T08:30:08.812058Z"
    }
   },
   "outputs": [],
   "source": [
    "from kNN.model_selection import train_test_split"
   ]
  },
  {
   "cell_type": "code",
   "execution_count": 73,
   "id": "76a949aa",
   "metadata": {
    "ExecuteTime": {
     "end_time": "2021-07-19T08:30:54.580071Z",
     "start_time": "2021-07-19T08:30:54.565084Z"
    }
   },
   "outputs": [],
   "source": [
    "X_train, X_test, y_train, y_test = train_test_split(X, y)"
   ]
  },
  {
   "cell_type": "code",
   "execution_count": 74,
   "id": "0d29bc61",
   "metadata": {
    "ExecuteTime": {
     "end_time": "2021-07-19T08:31:04.071354Z",
     "start_time": "2021-07-19T08:31:04.059019Z"
    }
   },
   "outputs": [
    {
     "name": "stdout",
     "output_type": "stream",
     "text": [
      "(120, 4)\n",
      "(120,)\n"
     ]
    }
   ],
   "source": [
    "print(X_train.shape)\n",
    "print(y_train.shape)"
   ]
  },
  {
   "cell_type": "code",
   "execution_count": 75,
   "id": "3f42e576",
   "metadata": {
    "ExecuteTime": {
     "end_time": "2021-07-19T08:31:07.261806Z",
     "start_time": "2021-07-19T08:31:07.257820Z"
    }
   },
   "outputs": [
    {
     "name": "stdout",
     "output_type": "stream",
     "text": [
      "(30, 4)\n",
      "(30,)\n"
     ]
    }
   ],
   "source": [
    "print(X_test.shape)\n",
    "print(y_test.shape)"
   ]
  },
  {
   "cell_type": "code",
   "execution_count": 76,
   "id": "22688613",
   "metadata": {
    "ExecuteTime": {
     "end_time": "2021-07-19T08:31:26.332344Z",
     "start_time": "2021-07-19T08:31:26.320231Z"
    }
   },
   "outputs": [],
   "source": [
    "from kNN.kNN import KNNClassifier"
   ]
  },
  {
   "cell_type": "code",
   "execution_count": 77,
   "id": "fd8a5f33",
   "metadata": {
    "ExecuteTime": {
     "end_time": "2021-07-19T08:31:50.662129Z",
     "start_time": "2021-07-19T08:31:50.644795Z"
    }
   },
   "outputs": [],
   "source": [
    "my_knn_clf = KNNClassifier(k=3)"
   ]
  },
  {
   "cell_type": "code",
   "execution_count": 78,
   "id": "0de62353",
   "metadata": {
    "ExecuteTime": {
     "end_time": "2021-07-19T08:32:08.128925Z",
     "start_time": "2021-07-19T08:32:08.110545Z"
    }
   },
   "outputs": [
    {
     "data": {
      "text/plain": [
       "kNN(k=3)"
      ]
     },
     "execution_count": 78,
     "metadata": {},
     "output_type": "execute_result"
    }
   ],
   "source": [
    "my_knn_clf.fit(X_train, y_train)"
   ]
  },
  {
   "cell_type": "code",
   "execution_count": 79,
   "id": "d57ab46a",
   "metadata": {
    "ExecuteTime": {
     "end_time": "2021-07-19T08:32:39.275946Z",
     "start_time": "2021-07-19T08:32:39.246361Z"
    }
   },
   "outputs": [],
   "source": [
    "y_predict = my_knn_clf.predict(X_test)"
   ]
  },
  {
   "cell_type": "code",
   "execution_count": 81,
   "id": "5db7d1a5",
   "metadata": {
    "ExecuteTime": {
     "end_time": "2021-07-19T08:32:49.422038Z",
     "start_time": "2021-07-19T08:32:49.412550Z"
    }
   },
   "outputs": [
    {
     "data": {
      "text/plain": [
       "array([2, 1, 1, 0, 1, 1, 2, 2, 2, 0, 2, 2, 2, 1, 0, 2, 1, 0, 0, 0, 0, 2,\n",
       "       0, 0, 2, 0, 0, 1, 2, 0])"
      ]
     },
     "execution_count": 81,
     "metadata": {},
     "output_type": "execute_result"
    }
   ],
   "source": [
    "y_predict"
   ]
  },
  {
   "cell_type": "code",
   "execution_count": 82,
   "id": "c002eb7e",
   "metadata": {
    "ExecuteTime": {
     "end_time": "2021-07-19T08:33:00.151313Z",
     "start_time": "2021-07-19T08:33:00.137152Z"
    }
   },
   "outputs": [
    {
     "data": {
      "text/plain": [
       "array([2, 1, 2, 0, 1, 1, 2, 2, 2, 0, 2, 2, 2, 1, 0, 2, 1, 0, 0, 0, 0, 2,\n",
       "       0, 0, 2, 0, 0, 1, 2, 0])"
      ]
     },
     "execution_count": 82,
     "metadata": {},
     "output_type": "execute_result"
    }
   ],
   "source": [
    "y_test"
   ]
  },
  {
   "cell_type": "code",
   "execution_count": 83,
   "id": "58c9a0da",
   "metadata": {
    "ExecuteTime": {
     "end_time": "2021-07-19T08:33:17.947048Z",
     "start_time": "2021-07-19T08:33:17.931581Z"
    }
   },
   "outputs": [
    {
     "data": {
      "text/plain": [
       "29"
      ]
     },
     "execution_count": 83,
     "metadata": {},
     "output_type": "execute_result"
    }
   ],
   "source": [
    "np.sum(y_predict == y_test)"
   ]
  },
  {
   "cell_type": "code",
   "execution_count": 84,
   "id": "323058c5",
   "metadata": {
    "ExecuteTime": {
     "end_time": "2021-07-19T08:33:37.969905Z",
     "start_time": "2021-07-19T08:33:37.958844Z"
    }
   },
   "outputs": [
    {
     "data": {
      "text/plain": [
       "0.9666666666666667"
      ]
     },
     "execution_count": 84,
     "metadata": {},
     "output_type": "execute_result"
    }
   ],
   "source": [
    "np.sum(y_predict == y_test) / len(y_test)"
   ]
  },
  {
   "cell_type": "markdown",
   "id": "ea812d57",
   "metadata": {},
   "source": [
    "## sklearn中的train_test_split"
   ]
  },
  {
   "cell_type": "code",
   "execution_count": 85,
   "id": "a4125b38",
   "metadata": {
    "ExecuteTime": {
     "end_time": "2021-07-19T08:34:22.928930Z",
     "start_time": "2021-07-19T08:34:22.919960Z"
    }
   },
   "outputs": [],
   "source": [
    "from sklearn.model_selection import train_test_split"
   ]
  },
  {
   "cell_type": "code",
   "execution_count": 87,
   "id": "ea162067",
   "metadata": {
    "ExecuteTime": {
     "end_time": "2021-07-19T08:35:00.038884Z",
     "start_time": "2021-07-19T08:35:00.033902Z"
    }
   },
   "outputs": [],
   "source": [
    "X_train, X_test, y_train, y_test = train_test_split(X, y, test_size=0.2, random_state=666) # test_size 测试比例， random_state相当于随机种子"
   ]
  },
  {
   "cell_type": "code",
   "execution_count": 88,
   "id": "6a69f1a0",
   "metadata": {
    "ExecuteTime": {
     "end_time": "2021-07-19T08:35:05.590285Z",
     "start_time": "2021-07-19T08:35:05.576052Z"
    }
   },
   "outputs": [
    {
     "name": "stdout",
     "output_type": "stream",
     "text": [
      "(120, 4)\n",
      "(120,)\n"
     ]
    }
   ],
   "source": [
    "print(X_train.shape)\n",
    "print(y_train.shape)"
   ]
  },
  {
   "cell_type": "code",
   "execution_count": 89,
   "id": "b1970840",
   "metadata": {
    "ExecuteTime": {
     "end_time": "2021-07-19T08:35:09.976604Z",
     "start_time": "2021-07-19T08:35:09.964950Z"
    }
   },
   "outputs": [
    {
     "name": "stdout",
     "output_type": "stream",
     "text": [
      "(30, 4)\n",
      "(30,)\n"
     ]
    }
   ],
   "source": [
    "print(X_test.shape)\n",
    "print(y_test.shape)"
   ]
  },
  {
   "cell_type": "code",
   "execution_count": null,
   "id": "32216119",
   "metadata": {},
   "outputs": [],
   "source": []
  }
 ],
 "metadata": {
  "kernelspec": {
   "display_name": "Python 3",
   "language": "python",
   "name": "python3"
  },
  "language_info": {
   "codemirror_mode": {
    "name": "ipython",
    "version": 3
   },
   "file_extension": ".py",
   "mimetype": "text/x-python",
   "name": "python",
   "nbconvert_exporter": "python",
   "pygments_lexer": "ipython3",
   "version": "3.8.8"
  },
  "toc": {
   "base_numbering": 1,
   "nav_menu": {},
   "number_sections": true,
   "sideBar": true,
   "skip_h1_title": false,
   "title_cell": "Table of Contents",
   "title_sidebar": "Contents",
   "toc_cell": false,
   "toc_position": {},
   "toc_section_display": true,
   "toc_window_display": false
  },
  "varInspector": {
   "cols": {
    "lenName": 16,
    "lenType": 16,
    "lenVar": 40
   },
   "kernels_config": {
    "python": {
     "delete_cmd_postfix": "",
     "delete_cmd_prefix": "del ",
     "library": "var_list.py",
     "varRefreshCmd": "print(var_dic_list())"
    },
    "r": {
     "delete_cmd_postfix": ") ",
     "delete_cmd_prefix": "rm(",
     "library": "var_list.r",
     "varRefreshCmd": "cat(var_dic_list()) "
    }
   },
   "types_to_exclude": [
    "module",
    "function",
    "builtin_function_or_method",
    "instance",
    "_Feature"
   ],
   "window_display": false
  }
 },
 "nbformat": 4,
 "nbformat_minor": 5
}
